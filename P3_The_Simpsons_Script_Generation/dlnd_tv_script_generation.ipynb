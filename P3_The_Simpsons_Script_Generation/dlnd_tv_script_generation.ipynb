{
 "cells": [
  {
   "cell_type": "markdown",
   "metadata": {},
   "source": [
    "# TV Script Generation\n",
    "In this project, you'll generate your own [Simpsons](https://en.wikipedia.org/wiki/The_Simpsons) TV scripts using RNNs.  You'll be using part of the [Simpsons dataset](https://www.kaggle.com/wcukierski/the-simpsons-by-the-data) of scripts from 27 seasons.  The Neural Network you'll build will generate a new TV script for a scene at [Moe's Tavern](https://simpsonswiki.com/wiki/Moe's_Tavern).\n",
    "## Get the Data\n",
    "The data is already provided for you.  You'll be using a subset of the original dataset.  It consists of only the scenes in Moe's Tavern.  This doesn't include other versions of the tavern, like \"Moe's Cavern\", \"Flaming Moe's\", \"Uncle Moe's Family Feed-Bag\", etc.."
   ]
  },
  {
   "cell_type": "code",
   "execution_count": 1,
   "metadata": {
    "collapsed": true
   },
   "outputs": [],
   "source": [
    "\"\"\"\n",
    "DON'T MODIFY ANYTHING IN THIS CELL\n",
    "\"\"\"\n",
    "import helper\n",
    "\n",
    "data_dir = './data/simpsons/moes_tavern_lines.txt'\n",
    "text = helper.load_data(data_dir)\n",
    "# Ignore notice, since we don't use it for analysing the data\n",
    "text = text[81:]"
   ]
  },
  {
   "cell_type": "markdown",
   "metadata": {},
   "source": [
    "## Explore the Data\n",
    "Play around with `view_sentence_range` to view different parts of the data."
   ]
  },
  {
   "cell_type": "code",
   "execution_count": 2,
   "metadata": {},
   "outputs": [
    {
     "data": {
      "text/plain": [
       "\"Moe_Szyslak: (INTO PHONE) Moe's Tavern. Where the elite meet to drink.\\nBart_Simpson: Eh, yeah, hello, is Mike there? Last name, Rotch.\\nMoe_Szyslak: (INTO PHONE) Hold on, I'll check. (TO BARFLIES) Mike Rotch. Mike Rotch. Hey, has anybody seen Mike Rotch, lately?\\nMoe_Szyslak: (INTO PHONE) Listen you little puke. One of these days I'm gonna catch you, and I'm gonna carve my name on your back with an ice pick.\\nMoe_Szyslak: What's the matter Homer? You're not your normal effervescent self.\\nHomer_Simpson: I got my problems, Moe. Give me another one.\\nMoe_Szyslak: Homer, hey, you should not drink to forget your problems.\\nBarney_Gumble: Yeah, you should only drink to enhance your social skills.\\n\\n\\nMoe_Szyslak: Ah, isn't that nice. Now, there is a politician who cares.\\nBarney_Gumble: If I ever vote, it'll be for him. (BELCH)\\n\\n\\nBarney_Gumble: Hey Homer, how's your neighbor's store doing?\\nHomer_Simpson: Lousy. He just sits there all day. He'd have a great job if he didn't own the place. (CHUCKLES)\\n\""
      ]
     },
     "execution_count": 2,
     "metadata": {},
     "output_type": "execute_result"
    }
   ],
   "source": [
    "text[:1000]"
   ]
  },
  {
   "cell_type": "code",
   "execution_count": 3,
   "metadata": {},
   "outputs": [
    {
     "name": "stdout",
     "output_type": "stream",
     "text": [
      "<Dataset Stats>\n",
      "Roughly the number of unique words: 11492\n",
      "Number of scenes: 262\n",
      "Average number of sentences in each scene: 14.251908396946565\n",
      "Number of lines: 3996\n",
      "Average number of words in each line: 12.255755755755755\n",
      "\n",
      "The sentences 0 to 10:\n",
      "Moe_Szyslak: (INTO PHONE) Moe's Tavern. Where the elite meet to drink.\n",
      "Bart_Simpson: Eh, yeah, hello, is Mike there? Last name, Rotch.\n",
      "Moe_Szyslak: (INTO PHONE) Hold on, I'll check. (TO BARFLIES) Mike Rotch. Mike Rotch. Hey, has anybody seen Mike Rotch, lately?\n",
      "Moe_Szyslak: (INTO PHONE) Listen you little puke. One of these days I'm gonna catch you, and I'm gonna carve my name on your back with an ice pick.\n",
      "Moe_Szyslak: What's the matter Homer? You're not your normal effervescent self.\n",
      "Homer_Simpson: I got my problems, Moe. Give me another one.\n",
      "Moe_Szyslak: Homer, hey, you should not drink to forget your problems.\n",
      "Barney_Gumble: Yeah, you should only drink to enhance your social skills.\n",
      "\n",
      "\n"
     ]
    }
   ],
   "source": [
    "view_sentence_range = (0, 10)\n",
    "\n",
    "\"\"\"\n",
    "DON'T MODIFY ANYTHING IN THIS CELL\n",
    "\"\"\"\n",
    "import numpy as np\n",
    "\n",
    "print('<Dataset Stats>')\n",
    "print('Roughly the number of unique words: {}'.format(len({word: None for word in text.split()})))\n",
    "scenes = text.split('\\n\\n\\n')\n",
    "print('Number of scenes: {}'.format(len(scenes)))\n",
    "sentence_count_scene = [scene.count('\\n') for scene in scenes]\n",
    "print('Average number of sentences in each scene: {}'.format(np.average(sentence_count_scene)))\n",
    "\n",
    "sentences = [sentence for scene in scenes for sentence in scene.split('\\n')]\n",
    "print('Number of lines: {}'.format(len(sentences)))\n",
    "word_count_sentence = [len(sentence.split()) for sentence in sentences]\n",
    "print('Average number of words in each line: {}'.format(np.average(word_count_sentence)))\n",
    "\n",
    "print()\n",
    "print('The sentences {} to {}:'.format(*view_sentence_range))\n",
    "print('\\n'.join(text.split('\\n')[view_sentence_range[0]:view_sentence_range[1]]))"
   ]
  },
  {
   "cell_type": "markdown",
   "metadata": {},
   "source": [
    "## Implement Preprocessing Functions\n",
    "The first thing to do to any dataset is preprocessing.  Implement the following preprocessing functions below:\n",
    "- Lookup Table\n",
    "- Tokenize Punctuation\n",
    "\n",
    "### Lookup Table\n",
    "To create a word embedding, you first need to transform the words to ids.  In this function, create two dictionaries:\n",
    "- Dictionary to go from the words to an id, we'll call `vocab_to_int`\n",
    "- Dictionary to go from the id to word, we'll call `int_to_vocab`\n",
    "\n",
    "Return these dictionaries in the following tuple `(vocab_to_int, int_to_vocab)`"
   ]
  },
  {
   "cell_type": "code",
   "execution_count": 4,
   "metadata": {},
   "outputs": [
    {
     "name": "stdout",
     "output_type": "stream",
     "text": [
      "Tests Passed\n"
     ]
    }
   ],
   "source": [
    "import numpy as np\n",
    "import problem_unittests as tests\n",
    "\n",
    "def create_lookup_tables(text):\n",
    "    \"\"\"\n",
    "    Create lookup tables for vocabulary\n",
    "    :param text: The text of tv scripts split into words\n",
    "    :return: A tuple of dicts (vocab_to_int, int_to_vocab)\n",
    "    \"\"\"\n",
    "    # TODO: Implement Function\n",
    "    vocab = set(text)\n",
    "    word2int = {word : idx for idx, word in enumerate(vocab)}\n",
    "    int2word = {idx : word for idx, word in enumerate(vocab)}\n",
    "    \n",
    "    return word2int, int2word\n",
    "\n",
    "\n",
    "\"\"\"\n",
    "DON'T MODIFY ANYTHING IN THIS CELL THAT IS BELOW THIS LINE\n",
    "\"\"\"\n",
    "tests.test_create_lookup_tables(create_lookup_tables)"
   ]
  },
  {
   "cell_type": "markdown",
   "metadata": {},
   "source": [
    "### Tokenize Punctuation\n",
    "We'll be splitting the script into a word array using spaces as delimiters.  However, punctuations like periods and exclamation marks make it hard for the neural network to distinguish between the word \"bye\" and \"bye!\".\n",
    "\n",
    "Implement the function `token_lookup` to return a dict that will be used to tokenize symbols like \"!\" into \"||Exclamation_Mark||\".  Create a dictionary for the following symbols where the symbol is the key and value is the token:\n",
    "- Period ( . )\n",
    "- Comma ( , )\n",
    "- Quotation Mark ( \" )\n",
    "- Semicolon ( ; )\n",
    "- Exclamation mark ( ! )\n",
    "- Question mark ( ? )\n",
    "- Left Parentheses ( ( )\n",
    "- Right Parentheses ( ) )\n",
    "- Dash ( -- )\n",
    "- Return ( \\n )\n",
    "\n",
    "This dictionary will be used to token the symbols and add the delimiter (space) around it.  This separates the symbols as it's own word, making it easier for the neural network to predict on the next word. Make sure you don't use a token that could be confused as a word. Instead of using the token \"dash\", try using something like \"||dash||\"."
   ]
  },
  {
   "cell_type": "markdown",
   "metadata": {},
   "source": [
    "### First let's check the complete characters set of this text corpus"
   ]
  },
  {
   "cell_type": "code",
   "execution_count": 5,
   "metadata": {},
   "outputs": [
    {
     "name": "stdout",
     "output_type": "stream",
     "text": [
      "Symbol List:\n",
      "['\\n', ' ', '!', '\"', '#', '$', '%', '&', \"'\", '(', ')', ',', '-', '.', '/', '0', '1', '2', '3', '4', '5', '6', '7', '8', '9', ':', ';', '?', 'A', 'B', 'C', 'D', 'E', 'F', 'G', 'H', 'I', 'J', 'K', 'L', 'M', 'N', 'O', 'P', 'Q', 'R', 'S', 'T', 'U', 'V', 'W', 'X', 'Y', 'Z', '_', 'a', 'b', 'c', 'd', 'e', 'f', 'g', 'h', 'i', 'j', 'k', 'l', 'm', 'n', 'o', 'p', 'q', 'r', 's', 't', 'u', 'v', 'w', 'x', 'y', 'z', '猫', '盲', '眉', '脌', '脿', '茅', '茫', '贸'] \n",
      "\n",
      "Punctuation List:\n",
      "['\\n', ' ', '!', '\"', '#', '$', '%', '&', \"'\", '(', ')', ',', '-', '.', '/', ':', ';', '?', '_']\n"
     ]
    }
   ],
   "source": [
    "x = sorted(set(list(text)))\n",
    "print('Symbol List:')\n",
    "print(x, '\\n')\n",
    "\n",
    "punctuations = [c for c in x if not (c.isalpha() or c.isdigit())]\n",
    "print('Punctuation List:')\n",
    "print(punctuations)"
   ]
  },
  {
   "cell_type": "code",
   "execution_count": 6,
   "metadata": {},
   "outputs": [
    {
     "name": "stdout",
     "output_type": "stream",
     "text": [
      "Tests Passed\n"
     ]
    }
   ],
   "source": [
    "def token_lookup():\n",
    "    \"\"\"\n",
    "    Generate a dict to turn punctuation into a token.\n",
    "    :return: Tokenize dictionary where the key is the punctuation and the value is the token\n",
    "    \"\"\"\n",
    "    # TODO: Implement Function\n",
    "    punc_dict = {'.' :  '||Period||',\n",
    "                 ',' :  '||Comma||',\n",
    "                 '\"' :  '||Quotation||',\n",
    "                 ';' :  '||Semicolon||', \n",
    "                 '!' :  '||Exclamation||', \n",
    "                 '?' :  '||Question||', \n",
    "                 '(' :  '||Left||', \n",
    "                 ')' :  '||Right||',\n",
    "                 '--' : '||Dash||', \n",
    "                 '\\n' : '||Return||'}\n",
    "    return punc_dict\n",
    "\n",
    "\"\"\"\n",
    "DON'T MODIFY ANYTHING IN THIS CELL THAT IS BELOW THIS LINE\n",
    "\"\"\"\n",
    "tests.test_tokenize(token_lookup)"
   ]
  },
  {
   "cell_type": "markdown",
   "metadata": {},
   "source": [
    "> 可以注意到这里并未要求处理语言中比较常见的冒号 `:` 以及 `'` 号，可能是考虑到这两个符号与单词结合的更为紧密吧？"
   ]
  },
  {
   "cell_type": "markdown",
   "metadata": {},
   "source": [
    "## Preprocess all the data and save it\n",
    "Running the code cell below will preprocess all the data and save it to file."
   ]
  },
  {
   "cell_type": "code",
   "execution_count": 7,
   "metadata": {
    "collapsed": true
   },
   "outputs": [],
   "source": [
    "\"\"\"\n",
    "DON'T MODIFY ANYTHING IN THIS CELL\n",
    "\"\"\"\n",
    "# Preprocess Training, Validation, and Testing Data\n",
    "helper.preprocess_and_save_data(data_dir, token_lookup, create_lookup_tables)"
   ]
  },
  {
   "cell_type": "markdown",
   "metadata": {},
   "source": [
    "# Check Point\n",
    "This is your first checkpoint. If you ever decide to come back to this notebook or have to restart the notebook, you can start from here. The preprocessed data has been saved to disk."
   ]
  },
  {
   "cell_type": "code",
   "execution_count": 8,
   "metadata": {
    "collapsed": true
   },
   "outputs": [],
   "source": [
    "\"\"\"\n",
    "DON'T MODIFY ANYTHING IN THIS CELL\n",
    "\"\"\"\n",
    "import helper\n",
    "import numpy as np\n",
    "import problem_unittests as tests\n",
    "\n",
    "int_text, vocab_to_int, int_to_vocab, token_dict = helper.load_preprocess()"
   ]
  },
  {
   "cell_type": "markdown",
   "metadata": {},
   "source": [
    "## Build the Neural Network\n",
    "You'll build the components necessary to build a RNN by implementing the following functions below:\n",
    "- get_inputs\n",
    "- get_init_cell\n",
    "- get_embed\n",
    "- build_rnn\n",
    "- build_nn\n",
    "- get_batches\n",
    "\n",
    "### Check the Version of TensorFlow and Access to GPU"
   ]
  },
  {
   "cell_type": "code",
   "execution_count": 9,
   "metadata": {},
   "outputs": [
    {
     "name": "stdout",
     "output_type": "stream",
     "text": [
      "TensorFlow Version: 1.2.1\n",
      "Default GPU Device: /gpu:0\n"
     ]
    }
   ],
   "source": [
    "\"\"\"\n",
    "DON'T MODIFY ANYTHING IN THIS CELL\n",
    "\"\"\"\n",
    "from distutils.version import LooseVersion\n",
    "import warnings\n",
    "import tensorflow as tf\n",
    "\n",
    "# Check TensorFlow Version\n",
    "assert LooseVersion(tf.__version__) >= LooseVersion('1.0'), 'Please use TensorFlow version 1.0 or newer'\n",
    "print('TensorFlow Version: {}'.format(tf.__version__))\n",
    "\n",
    "# Check for a GPU\n",
    "if not tf.test.gpu_device_name():\n",
    "    warnings.warn('No GPU found. Please use a GPU to train your neural network.')\n",
    "else:\n",
    "    print('Default GPU Device: {}'.format(tf.test.gpu_device_name()))"
   ]
  },
  {
   "cell_type": "markdown",
   "metadata": {},
   "source": [
    "### Input\n",
    "Implement the `get_inputs()` function to create TF Placeholders for the Neural Network.  It should create the following placeholders:\n",
    "- Input text placeholder named \"input\" using the [TF Placeholder](https://www.tensorflow.org/api_docs/python/tf/placeholder) `name` parameter.\n",
    "- Targets placeholder\n",
    "- Learning Rate placeholder\n",
    "\n",
    "Return the placeholders in the following tuple `(Input, Targets, LearningRate)`"
   ]
  },
  {
   "cell_type": "markdown",
   "metadata": {},
   "source": [
    "#### 输入 Tensor 是二维的，目标 Tensor 也是二维的，具体维度的长度先不定，因此用None填充。"
   ]
  },
  {
   "cell_type": "code",
   "execution_count": 10,
   "metadata": {},
   "outputs": [
    {
     "name": "stdout",
     "output_type": "stream",
     "text": [
      "Tests Passed\n"
     ]
    }
   ],
   "source": [
    "def get_inputs():\n",
    "    \"\"\"\n",
    "    Create TF Placeholders for input, targets, and learning rate.\n",
    "    :return: Tuple (input, targets, learning rate)\n",
    "    \"\"\"\n",
    "    # TODO: Implement Function\n",
    "    inputs = tf.placeholder(dtype=tf.int32, shape=[None, None], name='input')\n",
    "    targets = tf.placeholder(dtype=tf.int32, shape=[None, None], name='targets')\n",
    "    lr = tf.placeholder(dtype=tf.float32, name='lr')\n",
    "    return inputs, targets, lr\n",
    "\n",
    "\n",
    "\"\"\"\n",
    "DON'T MODIFY ANYTHING IN THIS CELL THAT IS BELOW THIS LINE\n",
    "\"\"\"\n",
    "tests.test_get_inputs(get_inputs)"
   ]
  },
  {
   "cell_type": "markdown",
   "metadata": {},
   "source": [
    "### Build RNN Cell and Initialize\n",
    "Stack one or more [`BasicLSTMCells`](https://www.tensorflow.org/api_docs/python/tf/contrib/rnn/BasicLSTMCell) in a [`MultiRNNCell`](https://www.tensorflow.org/api_docs/python/tf/contrib/rnn/MultiRNNCell).\n",
    "- The Rnn size should be set using `rnn_size`\n",
    "- Initalize Cell State using the MultiRNNCell's [`zero_state()`](https://www.tensorflow.org/api_docs/python/tf/contrib/rnn/MultiRNNCell#zero_state) function\n",
    "    - Apply the name \"initial_state\" to the initial state using [`tf.identity()`](https://www.tensorflow.org/api_docs/python/tf/identity)\n",
    "\n",
    "Return the cell and initial state in the following tuple `(Cell, InitialState)`"
   ]
  },
  {
   "cell_type": "markdown",
   "metadata": {},
   "source": [
    "#### 基本流程\n",
    "\n",
    "- 定义单个 LSTM Cell 结构\n",
    "- 在每个 LSTM Cell 后面追加 Dropout\n",
    "- 将多个 LSTM Cell 串联起来\n",
    "- 对所有 LSTM Cell 进行初始化\n",
    "\n",
    "> tf.identity 的唯一作用就是对一个 Tensor 进行重命名"
   ]
  },
  {
   "cell_type": "markdown",
   "metadata": {},
   "source": [
    "### 关于 Dropout\n",
    "\n",
    "值得注意的是，在RNN中使用Dropout的效果，不会像CNN里那么万能好用，而是要根据情况选用。这里我一上来就在每个Cell后都加了Dropout，但是结果是100代训练后Loss依然在1以上。说明模型还是欠拟合状态，为了进一步提高模型的收敛速度，这时候就应该取消Dropout，直接用最简单的单层LSTM网络进行训练，实验结果证明这样可以在100代内抵达0.09的很低Loss水平。"
   ]
  },
  {
   "cell_type": "code",
   "execution_count": 11,
   "metadata": {},
   "outputs": [
    {
     "name": "stdout",
     "output_type": "stream",
     "text": [
      "Tests Passed\n"
     ]
    }
   ],
   "source": [
    "num_cell = 1\n",
    "\n",
    "def get_init_cell(batch_size, rnn_size):\n",
    "    \"\"\"\n",
    "    Create an RNN Cell and initialize it.\n",
    "    :param batch_size: Size of batches\n",
    "    :param rnn_size: Size of RNNs\n",
    "    :return: Tuple (cell, initialize state)\n",
    "    \"\"\"\n",
    "    # TODO: Implement Function\n",
    "    cell = tf.contrib.rnn.BasicLSTMCell(num_units=rnn_size)\n",
    "#     cell = tf.contrib.rnn.BasicRNNCell(num_units=rnn_size)\n",
    "#     cell = tf.contrib.rnn.DropoutWrapper(cell, output_keep_prob=0.8)\n",
    "    cell = tf.contrib.rnn.MultiRNNCell([cell] * num_cell)\n",
    "    \n",
    "    # 用指定batch_size初始化LSTM Cell，并重命名\n",
    "    init_state = cell.zero_state(batch_size=batch_size, dtype=tf.float32)\n",
    "    init_state = tf.identity(init_state, name='initial_state')\n",
    "    return cell, init_state\n",
    "\n",
    "\n",
    "\"\"\"\n",
    "DON'T MODIFY ANYTHING IN THIS CELL THAT IS BELOW THIS LINE\n",
    "\"\"\"\n",
    "tests.test_get_init_cell(get_init_cell)"
   ]
  },
  {
   "cell_type": "markdown",
   "metadata": {},
   "source": [
    "### Word Embedding\n",
    "Apply embedding to `input_data` using TensorFlow.  Return the embedded sequence."
   ]
  },
  {
   "cell_type": "code",
   "execution_count": 12,
   "metadata": {},
   "outputs": [
    {
     "name": "stdout",
     "output_type": "stream",
     "text": [
      "Tests Passed\n"
     ]
    }
   ],
   "source": [
    "def get_embed(input_data, vocab_size, embed_dim):\n",
    "    \"\"\"\n",
    "    Create embedding for <input_data>.\n",
    "    :param input_data: TF placeholder for text input.\n",
    "    :param vocab_size: Number of words in vocabulary.\n",
    "    :param embed_dim: Number of embedding dimensions\n",
    "    :return: Embedded input.\n",
    "    \"\"\"\n",
    "    # TODO: Implement Function\n",
    "    embed_init = tf.random_uniform(shape=(vocab_size, embed_dim), minval=-1, maxval=1)\n",
    "    embedding = tf.Variable(initial_value=embed_init)\n",
    "    return tf.nn.embedding_lookup(params=embedding, ids=input_data)\n",
    "\n",
    "\n",
    "\"\"\"\n",
    "DON'T MODIFY ANYTHING IN THIS CELL THAT IS BELOW THIS LINE\n",
    "\"\"\"\n",
    "tests.test_get_embed(get_embed)"
   ]
  },
  {
   "cell_type": "markdown",
   "metadata": {},
   "source": [
    "### Build RNN\n",
    "You created a RNN Cell in the `get_init_cell()` function.  Time to use the cell to create a RNN.\n",
    "- Build the RNN using the [`tf.nn.dynamic_rnn()`](https://www.tensorflow.org/api_docs/python/tf/nn/dynamic_rnn)\n",
    " - Apply the name \"final_state\" to the final state using [`tf.identity()`](https://www.tensorflow.org/api_docs/python/tf/identity)\n",
    "\n",
    "Return the outputs and final_state state in the following tuple `(Outputs, FinalState)` "
   ]
  },
  {
   "cell_type": "code",
   "execution_count": 13,
   "metadata": {},
   "outputs": [
    {
     "name": "stdout",
     "output_type": "stream",
     "text": [
      "Tests Passed\n"
     ]
    }
   ],
   "source": [
    "def build_rnn(cell, inputs):\n",
    "    \"\"\"\n",
    "    Create a RNN using a RNN Cell\n",
    "    :param cell: RNN Cell\n",
    "    :param inputs: Input text data\n",
    "    :return: Tuple (Outputs, Final State)\n",
    "    \"\"\"\n",
    "    # TODO: Implement Function\n",
    "    outputs, finalState = tf.nn.dynamic_rnn(cell=cell, inputs=inputs, dtype=tf.float32)\n",
    "    finalState = tf.identity(finalState, name='final_state')\n",
    "    return outputs, finalState\n",
    "\n",
    "\n",
    "\"\"\"\n",
    "DON'T MODIFY ANYTHING IN THIS CELL THAT IS BELOW THIS LINE\n",
    "\"\"\"\n",
    "tests.test_build_rnn(build_rnn)"
   ]
  },
  {
   "cell_type": "markdown",
   "metadata": {},
   "source": [
    "### Build the Neural Network\n",
    "Apply the functions you implemented above to:\n",
    "- Apply embedding to `input_data` using your `get_embed(input_data, vocab_size, embed_dim)` function.\n",
    "- Build RNN using `cell` and your `build_rnn(cell, inputs)` function.\n",
    "- Apply a fully connected layer with a linear activation and `vocab_size` as the number of outputs.\n",
    "\n",
    "Return the logits and final state in the following tuple (Logits, FinalState) "
   ]
  },
  {
   "cell_type": "code",
   "execution_count": 14,
   "metadata": {
    "scrolled": false
   },
   "outputs": [
    {
     "name": "stdout",
     "output_type": "stream",
     "text": [
      "Tests Passed\n"
     ]
    }
   ],
   "source": [
    "def build_nn(cell, rnn_size, input_data, vocab_size, embed_dim):\n",
    "    \"\"\"\n",
    "    Build part of the neural network\n",
    "    :param cell: RNN cell\n",
    "    :param rnn_size: Size of rnns\n",
    "    :param input_data: Input data\n",
    "    :param vocab_size: Vocabulary size\n",
    "    :param embed_dim: Number of embedding dimensions\n",
    "    :return: Tuple (Logits, FinalState)\n",
    "    \"\"\"\n",
    "    # TODO: Implement Function\n",
    "    embed = get_embed(input_data, vocab_size, embed_dim)\n",
    "    outputs, finalState = build_rnn(cell, embed)\n",
    "    out = tf.contrib.layers.fully_connected(inputs=outputs, num_outputs=vocab_size, activation_fn=None)\n",
    "    return out, finalState\n",
    "\n",
    "\n",
    "\"\"\"\n",
    "DON'T MODIFY ANYTHING IN THIS CELL THAT IS BELOW THIS LINE\n",
    "\"\"\"\n",
    "tests.test_build_nn(build_nn)"
   ]
  },
  {
   "cell_type": "markdown",
   "metadata": {},
   "source": [
    "### Batches\n",
    "Implement `get_batches` to create batches of input and targets using `int_text`.  The batches should be a Numpy array with the shape `(number of batches, 2, batch size, sequence length)`. Each batch contains two elements:\n",
    "- The first element is a single batch of **input** with the shape `[batch size, sequence length]`\n",
    "- The second element is a single batch of **targets** with the shape `[batch size, sequence length]`\n",
    "\n",
    "If you can't fill the last batch with enough data, drop the last batch.\n",
    "\n",
    "For exmple, `get_batches([1, 2, 3, 4, 5, 6, 7, 8, 9, 10, 11, 12, 13, 14, 15], 2, 3)` would return a Numpy array of the following:\n",
    "```\n",
    "[\n",
    "  # First Batch\n",
    "  [\n",
    "    # Batch of Input\n",
    "    [[ 1  2  3], [ 7  8  9]],\n",
    "    # Batch of targets\n",
    "    [[ 2  3  4], [ 8  9 10]]\n",
    "  ],\n",
    " \n",
    "  # Second Batch\n",
    "  [\n",
    "    # Batch of Input\n",
    "    [[ 4  5  6], [10 11 12]],\n",
    "    # Batch of targets\n",
    "    [[ 5  6  7], [11 12 13]]\n",
    "  ]\n",
    "]\n",
    "```"
   ]
  },
  {
   "cell_type": "code",
   "execution_count": 15,
   "metadata": {
    "collapsed": true
   },
   "outputs": [],
   "source": [
    "def print_batch(a):\n",
    "    print('Shape:', a.shape, '\\n')\n",
    "    con = np.concatenate(a, axis=2)\n",
    "    print(con)"
   ]
  },
  {
   "cell_type": "markdown",
   "metadata": {},
   "source": [
    "#### 写法1：矩阵解法"
   ]
  },
  {
   "cell_type": "code",
   "execution_count": 16,
   "metadata": {},
   "outputs": [
    {
     "name": "stdout",
     "output_type": "stream",
     "text": [
      "Tests Passed\n",
      "Shape: (2, 2, 3, 4) \n",
      "\n",
      "[[[ 1  2  3  4  5  6  7  8]\n",
      "  [ 9 10 11 12 13 14 15 16]\n",
      "  [17 18 19 20 21 22 23 24]]\n",
      "\n",
      " [[ 2  3  4  5  6  7  8  9]\n",
      "  [10 11 12 13 14 15 16 17]\n",
      "  [18 19 20 21 22 23 24  1]]]\n"
     ]
    }
   ],
   "source": [
    "def get_batches(int_text, batch_size, seq_length):\n",
    "    \"\"\"\n",
    "    Return batches of input and target\n",
    "    :param int_text: Text with the words replaced by their ids\n",
    "    :param batch_size: The size of batch\n",
    "    :param seq_length: The length of sequence\n",
    "    :return: Batches as a Numpy array\n",
    "    \"\"\"\n",
    "    # TODO: Implement Function\n",
    "\n",
    "    n_batches = len(int_text) // (batch_size * seq_length)\n",
    "    lens = n_batches * batch_size * seq_length\n",
    "    inputs_X = np.array(int_text[:lens]).reshape((batch_size, -1))\n",
    "    inputs_Y = np.roll(int_text, -1)[:lens].reshape((batch_size, -1))\n",
    "    res = np.zeros((n_batches, 2, batch_size, seq_length), dtype=np.int32)\n",
    "    \n",
    "    # 每个batch内分别存储输入和期望输出值对象\n",
    "    for i in range(n_batches):\n",
    "        res[i, 0] = inputs_X[:, i * seq_length : (i + 1) * seq_length]\n",
    "        res[i, 1] = inputs_Y[:, i * seq_length : (i + 1) * seq_length]\n",
    "    return res\n",
    "    \n",
    "\n",
    "\"\"\"\n",
    "DON'T MODIFY ANYTHING IN THIS CELL THAT IS BELOW THIS LINE\n",
    "\"\"\"\n",
    "tests.test_get_batches(get_batches)\n",
    "print_batch(get_batches(np.arange(1, 25), 3, 4))"
   ]
  },
  {
   "cell_type": "markdown",
   "metadata": {},
   "source": [
    "#### 写法2：不使用矩阵，直接用双循环索引"
   ]
  },
  {
   "cell_type": "code",
   "execution_count": 17,
   "metadata": {},
   "outputs": [
    {
     "name": "stdout",
     "output_type": "stream",
     "text": [
      "Tests Passed\n",
      "Shape: (2, 2, 3, 4) \n",
      "\n",
      "[[[ 1  2  3  4  5  6  7  8]\n",
      "  [ 5  6  7  8  9 10 11 12]\n",
      "  [ 9 10 11 12 13 14 15 16]]\n",
      "\n",
      " [[ 2  3  4  5  6  7  8  9]\n",
      "  [ 6  7  8  9 10 11 12 13]\n",
      "  [10 11 12 13 14 15 16 17]]]\n"
     ]
    }
   ],
   "source": [
    "def get_batches2(int_text, batch_size, seq_length):\n",
    "    \"\"\"\n",
    "    Return batches of input and target\n",
    "    :param int_text: Text with the words replaced by their ids\n",
    "    :param batch_size: The size of batch\n",
    "    :param seq_length: The length of sequence\n",
    "    :return: Batches as a Numpy array\n",
    "    \"\"\"\n",
    "    n_batches = len(int_text) // (batch_size * seq_length)\n",
    "    result = []\n",
    "    for i in range(n_batches):\n",
    "        X = []\n",
    "        Y = []\n",
    "        for j in range(batch_size):\n",
    "            idx = i * seq_length + j * seq_length\n",
    "            X.append(int_text[idx : (idx + seq_length)])\n",
    "            Y.append(int_text[(idx + 1) : (idx + seq_length + 1)])\n",
    "        result.append([X, Y])\n",
    "    return np.array(result)\n",
    "\n",
    "tests.test_get_batches(get_batches)\n",
    "print_batch(get_batches2(np.arange(1, 25), 3, 4))"
   ]
  },
  {
   "cell_type": "markdown",
   "metadata": {},
   "source": [
    "### 使用高度重叠的样本Batch进行训练\n",
    "\n",
    "- 感谢评审的意见\n",
    "\n",
    "> 在你的第1个尝试里，batch是相互独立的。第2个尝试里，存在训练集复用问题。在新batch中重新使用了之前的训练集。同时第2种写法也因为训练集数据复用而丢掉部分训练集数据，从你的打印对比结果也可以看出，第2个尝试的打印结果里，丢掉了后面的数据，然后只对留下的部分进行训练，数据量减少了而且还重复训练了一次，导致的结果是拟合效果会更好，但泛化能力会很差。\n",
    "\n",
    "- 针对 `np.arange(1, 25), batch_size=3, seq_length=4` 情况下，对比两种get_batch方法的结果\n",
    "\n",
    "$$\n",
    "[1, 2, 3, 4, 5, 6, 7, 8, 9, 10, 11, 12, 13, 14, 15, 16, 17, 18, 19, 20, 21, 22, 23, 24]\n",
    "$$\n",
    "\n",
    "#### Solution 1\n",
    "\n",
    "\n",
    "```\n",
    "     batch 1            batch 2\n",
    "[[[ 1  2  3  4    |    5  6  7  8]\n",
    "  [ 9 10 11 12    |   13 14 15 16]\n",
    "  [17 18 19 20    |   21 22 23 24]]\n",
    "\n",
    " [[ 2  3  4  5    |    6  7  8  9]\n",
    "  [10 11 12 13    |   14 15 16 17]\n",
    "  [18 19 20 21    |   22 23 24  1]]]\n",
    "```\n",
    "\n",
    "#### Solution 2\n",
    "\n",
    "```\n",
    "     batch 1            batch 2\n",
    "[[[ 1  2  3  4     |    5  6  7  8]\n",
    "  [ 5  6  7  8     |    9 10 11 12]\n",
    "  [ 9 10 11 12     |   13 14 15 16]]\n",
    "\n",
    " [[ 2  3  4  5     |    6  7  8  9]\n",
    "  [ 6  7  8  9     |   10 11 12 13]\n",
    "  [10 11 12 13     |   14 15 16 17]]]\n",
    "```\n"
   ]
  },
  {
   "cell_type": "markdown",
   "metadata": {},
   "source": [
    "## Neural Network Training\n",
    "### Hyperparameters\n",
    "Tune the following parameters:\n",
    "\n",
    "- Set `num_epochs` to the number of epochs.\n",
    "- Set `batch_size` to the batch size.\n",
    "- Set `rnn_size` to the size of the RNNs.\n",
    "- Set `embed_dim` to the size of the embedding.\n",
    "- Set `seq_length` to the length of sequence.\n",
    "- Set `learning_rate` to the learning rate.\n",
    "- Set `show_every_n_batches` to the number of batches the neural network should print progress."
   ]
  },
  {
   "cell_type": "code",
   "execution_count": 52,
   "metadata": {
    "collapsed": true
   },
   "outputs": [],
   "source": [
    "num_epochs = 100\n",
    "\n",
    "batch_size = 128\n",
    "\n",
    "rnn_size = 256\n",
    "\n",
    "embed_dim = 256\n",
    "\n",
    "num_cell = 1\n",
    "\n",
    "seq_length = 32\n",
    "\n",
    "learning_rate = 0.01\n",
    "\n",
    "show_every_n_batches = 100\n",
    "\n",
    "\"\"\"\n",
    "DON'T MODIFY ANYTHING IN THIS CELL THAT IS BELOW THIS LINE\n",
    "\"\"\"\n",
    "save_dir = './save'"
   ]
  },
  {
   "cell_type": "markdown",
   "metadata": {},
   "source": [
    "### Build the Graph\n",
    "Build the graph using the neural network you implemented."
   ]
  },
  {
   "cell_type": "code",
   "execution_count": 53,
   "metadata": {
    "collapsed": true,
    "scrolled": false
   },
   "outputs": [],
   "source": [
    "\"\"\"\n",
    "DON'T MODIFY ANYTHING IN THIS CELL\n",
    "\"\"\"\n",
    "from tensorflow.contrib import seq2seq\n",
    "\n",
    "train_graph = tf.Graph()\n",
    "with train_graph.as_default():\n",
    "    vocab_size = len(int_to_vocab)\n",
    "    input_text, targets, lr = get_inputs()\n",
    "    input_data_shape = tf.shape(input_text)\n",
    "    cell, initial_state = get_init_cell(input_data_shape[0], rnn_size)\n",
    "    logits, final_state = build_nn(cell, rnn_size, input_text, vocab_size, embed_dim)\n",
    "\n",
    "    # Probabilities for generating words\n",
    "    probs = tf.nn.softmax(logits, name='probs')\n",
    "\n",
    "    # Loss function\n",
    "    cost = seq2seq.sequence_loss(\n",
    "        logits,\n",
    "        targets,\n",
    "        tf.ones([input_data_shape[0], input_data_shape[1]]))\n",
    "\n",
    "    # Optimizer\n",
    "    optimizer = tf.train.AdamOptimizer(lr)\n",
    "\n",
    "    # Gradient Clipping\n",
    "    gradients = optimizer.compute_gradients(cost)\n",
    "    capped_gradients = [(tf.clip_by_value(grad, -1., 1.), var) for grad, var in gradients if grad is not None]\n",
    "    train_op = optimizer.apply_gradients(capped_gradients)"
   ]
  },
  {
   "cell_type": "markdown",
   "metadata": {},
   "source": [
    "## Train\n",
    "Train the neural network on the preprocessed data.  If you have a hard time getting a good loss, check the [forms](https://discussions.udacity.com/) to see if anyone is having the same problem."
   ]
  },
  {
   "cell_type": "code",
   "execution_count": 54,
   "metadata": {
    "scrolled": true
   },
   "outputs": [
    {
     "name": "stdout",
     "output_type": "stream",
     "text": [
      "Epoch   0 Batch    0/16   train_loss = 8.821\n",
      "Epoch   6 Batch    4/16   train_loss = 3.471\n",
      "Epoch  12 Batch    8/16   train_loss = 2.272\n",
      "Epoch  18 Batch   12/16   train_loss = 1.775\n",
      "Epoch  25 Batch    0/16   train_loss = 1.136\n",
      "Epoch  31 Batch    4/16   train_loss = 0.799\n",
      "Epoch  37 Batch    8/16   train_loss = 0.552\n",
      "Epoch  43 Batch   12/16   train_loss = 0.383\n",
      "Epoch  50 Batch    0/16   train_loss = 0.282\n",
      "Epoch  56 Batch    4/16   train_loss = 0.238\n",
      "Epoch  62 Batch    8/16   train_loss = 0.220\n",
      "Epoch  68 Batch   12/16   train_loss = 0.194\n",
      "Epoch  75 Batch    0/16   train_loss = 0.137\n",
      "Epoch  81 Batch    4/16   train_loss = 0.101\n",
      "Epoch  87 Batch    8/16   train_loss = 0.089\n",
      "Epoch  93 Batch   12/16   train_loss = 0.095\n",
      "Model Trained and Saved\n"
     ]
    }
   ],
   "source": [
    "\"\"\"\n",
    "DON'T MODIFY ANYTHING IN THIS CELL\n",
    "\"\"\"\n",
    "batches = get_batches(int_text, batch_size, seq_length)\n",
    "\n",
    "with tf.Session(graph=train_graph) as sess:\n",
    "    sess.run(tf.global_variables_initializer())\n",
    "\n",
    "    for epoch_i in range(num_epochs):\n",
    "        state = sess.run(initial_state, {input_text: batches[0][0]})\n",
    "\n",
    "        for batch_i, (x, y) in enumerate(batches):\n",
    "            feed = {\n",
    "                input_text: x,\n",
    "                targets: y,\n",
    "                initial_state: state,\n",
    "                lr: learning_rate}\n",
    "            train_loss, state, _ = sess.run([cost, final_state, train_op], feed)\n",
    "\n",
    "            # Show every <show_every_n_batches> batches\n",
    "            if (epoch_i * len(batches) + batch_i) % show_every_n_batches == 0:\n",
    "                print('Epoch {:>3} Batch {:>4}/{}   train_loss = {:.3f}'.format(\n",
    "                    epoch_i,\n",
    "                    batch_i,\n",
    "                    len(batches),\n",
    "                    train_loss))\n",
    "\n",
    "    # Save Model\n",
    "    saver = tf.train.Saver()\n",
    "    saver.save(sess, save_dir)\n",
    "    print('Model Trained and Saved')"
   ]
  },
  {
   "cell_type": "markdown",
   "metadata": {},
   "source": [
    "#### 模型在100代训练后的Training Loss收敛到0.09。使用的超参列表如下：\n",
    "\n",
    "    - num_epochs = 100\n",
    "    - batch_size = 128\n",
    "    - rnn_size = 256\n",
    "    - embed_dim = 256\n",
    "    - num_cell = 1\n",
    "    - seq_length = 32\n",
    "    - learning_rate = 0.01\n",
    "    - show_every_n_batches = 100"
   ]
  },
  {
   "cell_type": "markdown",
   "metadata": {},
   "source": [
    "## 超参数对模型能力的影响分析\n",
    "\n",
    "\n",
    "### 0. Vanilla RNN Cell vs LSTM Cell\n",
    "\n",
    "- Vanilla RNN Cell 的结构简单，随着时间的推移，越早的输出将会被越快遗忘，即被后来的输入冲淡了（Washout），由于这种限制的存在，Vanilla RNN 的网络只能学会较短序列之间的关系，而无法学习到比较长序列之间的关系（例如引号开闭之间的序列长度经常可以达到10-20个字符），表现在文本生成上，看到的现象就是 Training Loss 很大，生成的文本语法错误众多。\n",
    "\n",
    "\n",
    "- 使用单个Cell，分别测试 `BasicRNNCell` 构成的网络与 `BasicLSTMCell` 构成的网络，对比经过100代训练后的 Training Loss 如下\n",
    "\n",
    "`Cell Type` | 100 代 `Training Loss`\n",
    "--- | --- \n",
    "`BasicRNNCell`   | 3.00\n",
    "`BasicLSTMCell`  | 0.09\n",
    "\n",
    "> 通过对比表可以发现，LSTM Cell 的性能要远远好过 Vanilla Cell。\n",
    "\n",
    "\n",
    "### 1. Cell 具有的记忆长度（`rnn_size`）\n",
    "\n",
    "- 从类比的角度上看，`RNN Cell` 之于 RNN，就像 `卷积层` 之于 CNN 一样。\n",
    "\n",
    "\n",
    "- 每个 `RNN Cell` 并不真的只是一个 `Cell`，而是代表整个一层 Cell，每个 Cell 都是在不同时刻的神经元，即 **“在时间维度上”** 展开的Cell。\n",
    "\n",
    "\n",
    "- `rnn_size` 指的就是在时间维度上展开的具体长度值，有些类似于CNN中每个卷积层中具有的**卷积核数量**，它客观决定了模型的学习能力。例如 `BasicLSTMCell(num_units=256)` 定义的就是一个具有256个神经元的RNN隐层。\n",
    "\n",
    "\n",
    "`rnn_size` | 100 代 `Training Loss`\n",
    "--- | ---\n",
    "64  | 2.00\n",
    "128 | 0.70\n",
    "256 | 0.10\n",
    "512 | 0.09\n",
    "\n",
    "> 通过对比表可以发现，增大 `rnn_size` 可以显著的提高模型的学习能力，在相同训练代数达到更低的 Loss。\n",
    "\n",
    "\n",
    "\n",
    "### 2. Cell 级联个数（`num_cell`）\n",
    "\n",
    "- 由于每个 RNN Cell 实际上都是一层，因此如果将多个 RNN Cell 级联，得到的网络就是具有多个隐层的RNN网络。\n",
    "\n",
    "\n",
    "- `tf.contrib.rnn.MultiRNNCell` 做的是将多个 `LSTM Cell` （即多个 `LSTM Layer`）级联在一起。\n",
    "\n",
    "\n",
    "`num_cell` | 100 代 `Training Loss`\n",
    "--- | ---\n",
    "1   | 0.09\n",
    "3   | 1.00\n",
    "6   | 2.00\n",
    "\n",
    "> 通过对比表可以发现，盲目的增加网络深度会使得网络更难以被训练，在相同代数下收敛速度越来越慢。\n",
    "\n",
    "\n",
    "### 3. 词嵌入维度（`embed_dim`）\n",
    "\n",
    "`embed_dim` | 100 代 `Training Loss`\n",
    "--- | ---\n",
    "64  | 0.20\n",
    "128 | 0.10\n",
    "256 | 0.09\n",
    "512 | 0.09\n",
    "\n",
    "> 通过对比表可以发现，增加词嵌入的维度对降低模型Loss有一定影响，考虑到剧本语料的用词有一万多个，词嵌入的维度空间越大，越能分离相关词汇。\n",
    "\n",
    "\n",
    "### 4. 序列长度（`seq_length`）\n",
    "\n",
    "- `seq_length` 参数应该与语料本身的平均句子长度类似。\n",
    "\n",
    "`seq_length` | `Training Loss` | `Epochs`\n",
    "--- | --- | ---\n",
    "4   | 1.825 | 12\n",
    "8   | 0.878 | 25\n",
    "16  | 0.283 | 50\n",
    "32  | 0.090 | 100\n",
    "64  | 0.030 | 200\n",
    "128 | 0.016 | 400 \n",
    "256 | 0.008 | 800\n",
    "\n",
    "> 实际测试的结果显示，`seq_length` 太小时，模型将无法生成复杂的句子，只会重复一句话。不过，当 `seq_length` 不断增大时，模型生成的文本从语法角度看上去并没有什么太大区别，很难衡量到底是变得更好还是更坏了。\n"
   ]
  },
  {
   "cell_type": "markdown",
   "metadata": {},
   "source": [
    "## 附：生成文本对比"
   ]
  },
  {
   "cell_type": "markdown",
   "metadata": {},
   "source": [
    "### Seq_length = 4\n",
    "\n",
    "```\n",
    "moe_szyslak: picture, i wish i knew he'd slip up.\n",
    "homer_simpson:(to lisa) hi, this is guy husband to prison.\n",
    "homer_simpson:(to lisa) hi, this is guy husband to prison.\n",
    "homer_simpson:(to lisa) hi, this is guy husband to prison.\n",
    "homer_simpson:(to lisa) hi, this is guy husband to prison.\n",
    "homer_simpson:(to lisa) hi, this is guy husband to prison.\n",
    "homer_simpson:(to lisa) hi, this is guy husband to prison.\n",
    "homer_simpson:(to lisa) hi, this is guy husband to prison.\n",
    "homer_simpson:(to lisa) hi, this is guy husband to prison.\n",
    "homer_simpson:(to lisa) hi, this is guy husband to prison.\n",
    "homer_simpson:(to lisa) hi, this is guy husband to prison.\n",
    "homer_simpson:(to lisa) hi, this is guy husband to prison.\n",
    "homer_simpson:(to lisa) hi, this is guy husband to prison.\n",
    "homer_simpson:(to lisa) hi, this is guy husband to prison.\n",
    "```"
   ]
  },
  {
   "cell_type": "markdown",
   "metadata": {},
   "source": [
    "### Seq_length = 8\n",
    "\n",
    "```\n",
    "moe_szyslak: picture, i was gonna see a fictional tv.\n",
    "moe_szyslak:(incredulous) whaddaya been an already rewound.\n",
    "barney_gumble: come on, moe. i'm gonna get out on there.\n",
    "\n",
    "\n",
    "homer_simpson:(loud sotto) thanks, moe.\n",
    "moe_szyslak: well, i guess you'll have an idea what direction mecca's?\n",
    "lloyd:(closes big) ah, ha, i'm so happy you can pour me.\n",
    "barney_gumble: i can't go to get you back on your feet.\n",
    "moe_szyslak: yeah, but you'd be honest with you, drive?(small sob)\n",
    "moe_szyslak: hey, what's this?\n",
    "homer_simpson: i don't know. i have a file.\n",
    "\n",
    "\n",
    "homer_simpson:(sips it) nobody loves you...\n",
    "moe_szyslak: yeah, i figured out that right?\n",
    "carl_carlson: not to mention to think you, use my wife.\n",
    "moe_szyslak:(tense) hey, there are right-- and that will make it happen to me.\n",
    "carl_carlson: aw, marriage is gonna stay out out who is 'em gonna up the secret vigilante handshake. now we need to focus here. you know what i'm playing for ya?\n",
    "lenny_leonard:(nods) mm hmm.\n",
    "homer_simpson:(drunk) yeah, that's it.\n",
    "moe_szyslak: hey, homer... and i can't not vote, it'll so homer looking at the house.\n",
    "homer_simpson:(mouth full) hey, i wonder how much air let him be.\n",
    "homer_simpson:(noticing band) moe? hey, would you like to buy some dame, you act like me?\n",
    "moe_szyslak: well, i have no idea what-- i gotta take my medicine call?\n",
    "moe_szyslak:(excited) there ya go.\n",
    "```"
   ]
  },
  {
   "cell_type": "markdown",
   "metadata": {},
   "source": [
    "### Seq_length = 16\n",
    "\n",
    "```\n",
    "moe_szyslak: picture, i think we've been polite long enough here.\n",
    "lenny_leonard: that's not funny, homer.\n",
    "\n",
    "\n",
    "teenage_bart:(aghast) well, that's halfway there.\n",
    "snake_jailbird: thanks, homer, don't worry about the mr. x thing.(sitting down)\n",
    "moe_szyslak: hey, hey, hey, hey! that plank's only for the night with edna, i'm gonna have to break your the secret ingredient!\n",
    "seymour_skinner:(small laugh) the results came, but i am so late!\n",
    "barney_gumble: oh my god! he's killed my dad.\n",
    "homer_simpson: i hope he tells us to come clean.\n",
    "lenny_leonard: oh, come on, there's sexy bald like... uh... what?(quickly points)\n",
    "homer_simpson: witty, what he way. but i did publish five modestly successful children's books.\n",
    "bart_simpson: all we need your advice.\n",
    "moe_szyslak: it's an american tradition to cut people down to size up.\n",
    "lenny_leonard: look at me! i can fl--(anguished noise)\n",
    "\n",
    "\n",
    "moe_szyslak: what'sa matter, homer? usually you know it's like you're driving years hey hey, and be nice to me.\n",
    "moe_szyslak:(explaining) part of urine!\n",
    "moe_szyslak: yeah, that broad is gone, so lenny he's in the multi-purpose room.\n",
    "homer_simpson:(short moan) can't someone else do it?\n",
    "moe_szyslak:(on a huge sledge-hammer) we need for a while.\n",
    "linda_ronstadt:(singing) when the snow starts a fallin' in moe.(big)\n",
    "lisa_simpson:\" i'd say man who shouldn't have you?\n",
    "homer_simpson: i did. of course, it was kinda hard to think of reasons for a couple.\n",
    "moe_szyslak: are you kiddin' me? you're the best thing to get along the new world?\n",
    "moe_szyslak: that, you wanna try my new vance connor-politan? like vance fat, don't you do no accident.\n",
    "moe_szyslak: look, i'd like ya.\n",
    "```"
   ]
  },
  {
   "cell_type": "markdown",
   "metadata": {},
   "source": [
    "### Seq_length = 32\n",
    "\n",
    "```\n",
    "moe_szyslak: picture that's very good at that.\n",
    "homer_simpson:(gasp of awe) dressing?\n",
    "moe_szyslak: their choice.\n",
    "homer_simpson: you really think i was gonna use the housework homer and the entire steel mill was gay.\n",
    "moe_szyslak: and what was lost in the service.\n",
    "homer_simpson:(quietly) hi, moe. where's the moments in a place like?\n",
    "moe_szyslak: well, i guess we are.\n",
    "ned_flanders: i suppose i do take maude for granted.\n",
    "barney_gumble: i don't know. the sat's are tomorrow.\n",
    "moe_szyslak: ah, they say the most clothespins this?\n",
    "moe_szyslak:(shocked) that's how it works? i was just drawin' wangs on the numbers from the...\n",
    "moe_szyslak: i knew that in order to win her love, i want to give something back.\n",
    "homer_simpson: listen, moe. i was thinking of another thing i got goin'.\n",
    "the_rich_texan: gimme a party down to homer and the cars he towed!\n",
    "lenny_leonard: with those jerks out of the way, i was able to park right outside!\n",
    "homer_simpson:(smelling\") big deal.\n",
    "marge_simpson:(reading sign)\" well, that helps.\n",
    "bar_rag: so to recap: i had to go help?\n",
    "moe_szyslak:(sobs) oh i need some coffee before i black out. homer, pass me the sugar.\n",
    "homer_simpson:(to himself) this is gonna be great. now you'll have someone who'll rub your back... without being all right\" the words of a heart-broken mother. for there will be no idea don't let it.\n",
    "homer_simpson: i just hope we put in enough steampunk?\n",
    "lenny_leonard:(mid-conversation) so who do you like, the padres or the tigers?\n",
    "moe_szyslak: yeah, i always say(philosophical)\" well, there's nothin' we can do about it...\n",
    "homer_simpson:(chuckles) hey, people may not love homer simpson, but they love their stupid american flag.\n",
    "```"
   ]
  },
  {
   "cell_type": "markdown",
   "metadata": {},
   "source": [
    "### Seq_length = 64\n",
    "```\n",
    "moe_szyslak: picture me the--\n",
    "homer_simpson:(looking in) hey, wait a minute-- this is real money!\n",
    "homer_simpson:(proudly) yeah, my wife is raking it in.\n",
    "fat_tony:(clears throat) greetings, homer.\n",
    "homer_simpson:(happy to see him) hey, fat tony! you still with the mafia?\n",
    "homer_simpson: no...(bitter) lenny, moe... i can't believe someone i never heard of is hangin' out with a guy like me.\n",
    "moe_szyslak:(walking toward jukebox) a little splattered food never hurt anybody.(jubilant) now everybody shut up and dance!\n",
    "moe_szyslak: yeah, that broad is some dame!\n",
    "ned_flanders:(surprised) you all know edna?\n",
    "barney_gumble: oh, that's sweet. i used to follow my dad to a lot of bars too.(belch)\n",
    "moe_szyslak: here you go. homer is a real hero sure can do without: morning-after stationery.\n",
    "moe_szyslak: and i got ya helicopter flying lessons.(to barflies) can you imagine this boozebag at the wheel of a whirlybird?\n",
    "moe_szyslak:(laughs) he'd be all\" look at me! i'm a tanked-up loser in private?\n",
    "homer_simpson:(getting idea) why don't you just make it on and be.\n",
    "barney_gumble: don't be that way.\n",
    "homer_simpson: you know, i just made friends with pepto-bismol on facebook and uh... um... uh...\n",
    "homer_simpson: well, i love you, of course. but a lot of things you do still drive me crazy.\n",
    "homer_simpson: so you mean our whole marriage you've got to hope.\n",
    "moe_szyslak: what? gimme that.\n",
    "homer_simpson: my daughter. i have some fun.\n",
    "bart_simpson:(jovial) are you kidding? i take it as a compliment!(chuckle) three beers, please!\n",
    "barney_gumble: hey, join the party!(sickly, pathetic burp)\n",
    "moe_szyslak:(on phone) ura snotball?\n",
    "```"
   ]
  },
  {
   "cell_type": "markdown",
   "metadata": {},
   "source": [
    "### Seq_length = 128\n",
    "```\n",
    "moe_szyslak: picture why i want to spend time with you. i'm makin' a stand here.\n",
    "homer_simpson: the usual, moe. a beer and a wad of bills.\n",
    "moe_szyslak:(sarcastic laugh) okay, ya lucky moron.\n",
    "moe_szyslak: here you go, homer. a hundred and thirty-five dollars.\n",
    "homer_simpson:(sagely) i used to hate the smell of your sweaty feet.(sniffs deeply) now it's the smell of victory.\n",
    "moe_szyslak: aw, shut up.\n",
    "moe_szyslak: hundred and ten, a hundred and twenty... and the crowds went wild.\n",
    "barney_gumble: yoo hoo!\n",
    "homer_simpson:(sings) so goodbye...\n",
    "chief_wiggum:(sings) farewell...\n",
    "apu_nahasapeemapetilon:(sings) shop kwik-e-mart and save...\n",
    "all: goodbye my coney isle / goodbye my coney isle / goodbye my coney island babe!\n",
    "nigel_bakerbutcher: homer, i'm a theatrical agent, and i want to spend time with you...\n",
    "moe_szyslak: whoa, whoa, whoa! no offense, uh, but uh, i just ain't comfortable hanging around all night with, uh, y'know whatchamacallit... uh, swishkabobs.\n",
    "waylon_smithers:(knowing) yeah, right. it's too bad. could have been fun. could have made a little money.\n",
    "moe_szyslak: thank you, homer?\n",
    "homer_simpson: moe, do you mind if i bring in some outside food?\n",
    "homer_simpson: oh, i don't know. what would moe say about that?\n",
    "homer_simpson:(slyly) but on the other hand, i put this up recently, and it's a good thing i did, 'cause it really illustrates my point.(turns back to painting) yep, good ol' swigmore u.\n",
    "carl_carlson: gee, uh, when you talk about that school, your voice fills with, uh... what do you call it? human feeling.\n",
    "lenny_leonard: yeah, maybe you should, uh... what's the expression? go back to go to go down and the town?\n",
    "carl_carlson: ho, boy-- pigtown u. s. a.!\n",
    "moe_szyslak: aw, shut up.\n",
    "moe_szyslak: hundred and ten, a hundred and twenty... and the crowds went wild.\n",
    "barney_gumble: yoo hoo!\n",
    "homer_simpson:(sings) so goodbye...\n",
    "chief_wiggum:(sings) farewell...\n",
    "apu_nahasapeemapetilon:(sings) shop kwik-e-mart and save...\n",
    "all: goodbye my coney isle / goodbye my coney isle / goodbye my coney island babe!\n",
    "nigel_bakerbutcher: homer, i'm a theatrical agent, and i want to spend time with you...\n",
    "```"
   ]
  },
  {
   "cell_type": "markdown",
   "metadata": {},
   "source": [
    "### Seq_length = 256\n",
    "\n",
    "```\n",
    "moe_szyslak: picture, i'm surprised how much for the...\n",
    "moe_szyslak: i knew that in order to win her love, i needed to get rid of the human garbage otherwise known as my best friends.\n",
    "moe_szyslak: barney, how do you keep gettin' back in?\n",
    "barney_gumble: i'm a drunk. i don't know nothin' about how i do anything.\n",
    "moe_szyslak: i had to get edna out of springfield-- make a fresh start in a new town, far some day?\n",
    "lenny_leonard: i am like that.\n",
    "moe_szyslak: okay, gimme that. gimme it back!\n",
    "homer_simpson:(morose) oh, what'll i do, moe?\n",
    "moe_szyslak: well, why don't you invite him over to dinner that people out of town.\n",
    "moe_szyslak: well, i guess you'll pine forever for a man who doesn't care, while i just grow old here in this bar.\n",
    "waylon_smithers: here's to suffering in silence.\n",
    "waylon_smithers:(intrigued noise) can't wait to see those numbers hanging from my rafters.\n",
    "aged_moe:(sigh) i can't believe it's been three years since smithers left. man, have i been aging badly.(sighs) but i guess i can finally wash this forehead.\n",
    "aged_moe:(smiles) divine.\n",
    "\n",
    "\n",
    "troy:(tipsy) homer, i'm really touched you invited me out on the town. you're gonna be a four-star brother-in-law.\n",
    "troy:(drunk but smooth) c'mere, homer.\n",
    "troy: i'll let you in on a little secret...\n",
    "\n",
    "\n",
    "young_homer:(cheers and:) looks like i've gotta tell ya, homer, the handwriting's on the wall. to stay afloat, this bar's gonna have to go queer.\n",
    "larry: you mean it's not?\n",
    "larry:(to book) wrong again,\" gay guide to springfield\n",
    "barney_gumble: gimme a beer!\n",
    "moe_szyslak:(calmly) i knew you'd be back.\n",
    "moe_szyslak:(to self) santeria, you're the greatest!\n",
    "homer_simpson: barney, didn't you say you were gonna stop drinking?\n",
    "barney_gumble:(breaks down) i know, but it's so hard. please help me, homer.\n",
    "homer_simpson: you came to the right guy. i'll straighten ya out... right after i finish this beer.\n",
    "homer_simpson: ah, man that's sweet. okay, let's go.\n",
    "moe_szyslak: hey, homer.(as homer sits) ah, no, no, no, don't sit there. take this seat, right next to the tap.\n",
    "homer_simpson:(suspiciously) but that's barney's seat.\n",
    "```"
   ]
  },
  {
   "cell_type": "markdown",
   "metadata": {},
   "source": [
    "## Save Parameters\n",
    "Save `seq_length` and `save_dir` for generating a new TV script."
   ]
  },
  {
   "cell_type": "code",
   "execution_count": 55,
   "metadata": {
    "collapsed": true
   },
   "outputs": [],
   "source": [
    "\"\"\"\n",
    "DON'T MODIFY ANYTHING IN THIS CELL\n",
    "\"\"\"\n",
    "# Save parameters for checkpoint\n",
    "helper.save_params((seq_length, save_dir))"
   ]
  },
  {
   "cell_type": "markdown",
   "metadata": {},
   "source": [
    "# Checkpoint"
   ]
  },
  {
   "cell_type": "code",
   "execution_count": 56,
   "metadata": {
    "collapsed": true
   },
   "outputs": [],
   "source": [
    "\"\"\"\n",
    "DON'T MODIFY ANYTHING IN THIS CELL\n",
    "\"\"\"\n",
    "import tensorflow as tf\n",
    "import numpy as np\n",
    "import helper\n",
    "import problem_unittests as tests\n",
    "\n",
    "_, vocab_to_int, int_to_vocab, token_dict = helper.load_preprocess()\n",
    "seq_length, load_dir = helper.load_params()"
   ]
  },
  {
   "cell_type": "markdown",
   "metadata": {},
   "source": [
    "## Implement Generate Functions\n",
    "### Get Tensors\n",
    "Get tensors from `loaded_graph` using the function [`get_tensor_by_name()`](https://www.tensorflow.org/api_docs/python/tf/Graph#get_tensor_by_name).  Get the tensors using the following names:\n",
    "- \"input:0\"\n",
    "- \"initial_state:0\"\n",
    "- \"final_state:0\"\n",
    "- \"probs:0\"\n",
    "\n",
    "Return the tensors in the following tuple `(InputTensor, InitialStateTensor, FinalStateTensor, ProbsTensor)` "
   ]
  },
  {
   "cell_type": "code",
   "execution_count": 57,
   "metadata": {},
   "outputs": [
    {
     "name": "stdout",
     "output_type": "stream",
     "text": [
      "Tests Passed\n"
     ]
    }
   ],
   "source": [
    "def get_tensors(loaded_graph):\n",
    "    \"\"\"\n",
    "    Get input, initial state, final state, and probabilities tensor from <loaded_graph>\n",
    "    :param loaded_graph: TensorFlow graph loaded from file\n",
    "    :return: Tuple (InputTensor, InitialStateTensor, FinalStateTensor, ProbsTensor)\n",
    "    \"\"\"\n",
    "    # TODO: Implement Function\n",
    "    InputTensor         = loaded_graph.get_tensor_by_name('input:0')\n",
    "    InitialStateTensor  = loaded_graph.get_tensor_by_name('initial_state:0')\n",
    "    FinalStateTensor    = loaded_graph.get_tensor_by_name('final_state:0')\n",
    "    ProbsTensor         = loaded_graph.get_tensor_by_name('probs:0')\n",
    "    return InputTensor, InitialStateTensor, FinalStateTensor, ProbsTensor\n",
    "\n",
    "\n",
    "\"\"\"\n",
    "DON'T MODIFY ANYTHING IN THIS CELL THAT IS BELOW THIS LINE\n",
    "\"\"\"\n",
    "tests.test_get_tensors(get_tensors)"
   ]
  },
  {
   "cell_type": "markdown",
   "metadata": {},
   "source": [
    "### Choose Word\n",
    "Implement the `pick_word()` function to select the next word using `probabilities`."
   ]
  },
  {
   "cell_type": "code",
   "execution_count": 58,
   "metadata": {},
   "outputs": [
    {
     "name": "stdout",
     "output_type": "stream",
     "text": [
      "Tests Passed\n"
     ]
    }
   ],
   "source": [
    "def pick_word(probabilities, int_to_vocab):\n",
    "    \"\"\"\n",
    "    Pick the next word in the generated text\n",
    "    :param probabilities: Probabilites of the next word\n",
    "    :param int_to_vocab: Dictionary of word ids as the keys and words as the values\n",
    "    :return: String of the predicted word\n",
    "    \"\"\"\n",
    "    # TODO: Implement Function\n",
    "    # 选择概率最大的单词索引，反查单词内容\n",
    "    return int_to_vocab[np.argmax(probabilities)]\n",
    "\n",
    "\n",
    "\"\"\"\n",
    "DON'T MODIFY ANYTHING IN THIS CELL THAT IS BELOW THIS LINE\n",
    "\"\"\"\n",
    "tests.test_pick_word(pick_word)"
   ]
  },
  {
   "cell_type": "markdown",
   "metadata": {},
   "source": [
    "## Generate TV Script\n",
    "This will generate the TV script for you.  Set `gen_length` to the length of TV script you want to generate."
   ]
  },
  {
   "cell_type": "code",
   "execution_count": 59,
   "metadata": {},
   "outputs": [
    {
     "name": "stdout",
     "output_type": "stream",
     "text": [
      "INFO:tensorflow:Restoring parameters from ./save\n",
      "moe_szyslak: lisa's tavern... uh...(ad lib singing) my bar could be british / instead of arm-pittish / so why don't we all(spoken) eh, screw it.\n",
      "kirk_van_houten: i could've at least stayed in shape for her.\n",
      "barney_gumble:(gasps) precious alcohol! soaking into shag.\n",
      "barney_gumble:(sighs) a glove slap to a little old face will / get you sat-is-fac-tion / glove slap...\n",
      "carl_carlson: and the worst thing is, there's nothing in my mouth and everyone's invited.\n",
      "larry: hey, your love testing?\n",
      "detective_homer_simpson: now you get a karaoke machine.\n",
      "grampa_simpson: that's the second, homer, you know that...(quickly points to door) get out.\n",
      "\n",
      "\n",
      "moe_szyslak:(covering) uh, that's a project i'm working on... my name is harv bannister ma tonight.\n",
      "carl_carlson: yeah, rumor has it marge threw him.\n",
      "moe_szyslak: yeah, i can't get artie out of my head. he's like a spy in the house of moe.\n",
      "homer_simpson: oh god, you're right. i really don't believe there's a chance to my sponsor.\n",
      "marge_simpson: i got it.(to moe) barkeep, we all wanna walk on the beach with their beer while\n",
      "homer_simpson:... and that's the terrifying tale of how the quebec nordiques became(spooky) the colorado avalanche.\n",
      "lisa_simpson: oh no!\n",
      "bart_simpson: i'm thankful i ate before i came.\n",
      "moe_szyslak: no way i would abandon you, raggie.\n",
      "moe_szyslak: you guys mind if i uh... kiss your tummies?\n",
      "moe_szyslak:(big knowing laugh) / very good.\n",
      "moe_szyslak: seriously, gimme the money.\n",
      "u2: the sanitation folks, is the\" forget-me-shot.\"\n",
      "homer_simpson: no.\n",
      "apu_nahasapeemapetilon: well, how can i put this delicately? i don't got enough booze in this place to make you look good.\n",
      "marge_simpson: maybe death will stop your money.\n",
      "barney_gumble:(shaky) all i remember about the last two months is giving a guest lecture one.\n",
      "moe_szyslak: maybe you need a little more\" milk of amnesia.\"\n",
      "moe_szyslak: you're too late, homer.(to moe, proudly) she has a gift.\n",
      "lisa_simpson: you have thirteen pickled eggs in this jar!(cute) and i'm sixty-nine, eh? well, that's it.\n",
      "barney_gumble:(sincere) you know, i love our valentine's day who would make this place is it.\n",
      "moe_szyslak: sure.\n",
      "attractive_woman_#1: excuse me, will you what?\n",
      "homer_simpson: oh, moe, i'm going to pull out\n"
     ]
    }
   ],
   "source": [
    "gen_length = 500\n",
    "# homer_simpson, moe_szyslak, or Barney_Gumble\n",
    "prime_word = 'moe_szyslak'\n",
    "\n",
    "\"\"\"\n",
    "DON'T MODIFY ANYTHING IN THIS CELL THAT IS BELOW THIS LINE\n",
    "\"\"\"\n",
    "loaded_graph = tf.Graph()\n",
    "with tf.Session(graph=loaded_graph) as sess:\n",
    "    # Load saved model\n",
    "    loader = tf.train.import_meta_graph(load_dir + '.meta')\n",
    "    loader.restore(sess, load_dir)\n",
    "\n",
    "    # Get Tensors from loaded model\n",
    "    input_text, initial_state, final_state, probs = get_tensors(loaded_graph)\n",
    "\n",
    "    # Sentences generation setup\n",
    "    gen_sentences = [prime_word + ':']\n",
    "    prev_state = sess.run(initial_state, {input_text: np.array([[1]])})\n",
    "\n",
    "    # Generate sentences\n",
    "    for n in range(gen_length):\n",
    "        # Dynamic Input\n",
    "        dyn_input = [[vocab_to_int[word] for word in gen_sentences[-seq_length:]]]\n",
    "        dyn_seq_length = len(dyn_input[0])\n",
    "\n",
    "        # Get Prediction\n",
    "        probabilities, prev_state = sess.run(\n",
    "            [probs, final_state],\n",
    "            {input_text: dyn_input, initial_state: prev_state})\n",
    "        \n",
    "        # 手动降维才能运行。不知道为什么。\n",
    "        probabilities = np.squeeze(probabilities)\n",
    "        \n",
    "        pred_word = pick_word(probabilities[dyn_seq_length - 1], int_to_vocab)\n",
    "\n",
    "        gen_sentences.append(pred_word)\n",
    "    \n",
    "    # Remove tokens\n",
    "    tv_script = ' '.join(gen_sentences)\n",
    "    for key, token in token_dict.items():\n",
    "        ending = ' ' if key in ['\\n', '(', '\"'] else ''\n",
    "        tv_script = tv_script.replace(' ' + token.lower(), key)\n",
    "    tv_script = tv_script.replace('\\n ', '\\n')\n",
    "    tv_script = tv_script.replace('( ', '(')\n",
    "        \n",
    "    print(tv_script)"
   ]
  },
  {
   "cell_type": "markdown",
   "metadata": {},
   "source": [
    "### 生成文本分析\n",
    "\n",
    "- 当 Training Loss 很小的时候，虽然句与句之间依然没有什么逻辑可言，但是生成的文本已经相当流畅，因为这些句子几乎都是原语料中的原话。\n",
    "\n",
    "\n",
    "- 绝大多数的单词的拼写都是正确的。\n",
    "\n",
    "\n",
    "- 绝大多数的标点都是正确的。"
   ]
  },
  {
   "cell_type": "markdown",
   "metadata": {},
   "source": [
    "### 局限性的讨论\n",
    "\n",
    "缺少客观评估模型性能的指标，虽然我们这里全程使用 Training Loss 判断模型的收敛情况，但是由于没有验证集，我们无从得知模型在什么时候已经进入过拟合状态。而且由于生成文本这种任务本身就没有一个合理的验证集，无法像分类任务那样可以用Validation Loss精确评估模型到底做的好到什么程度。"
   ]
  },
  {
   "cell_type": "markdown",
   "metadata": {},
   "source": [
    "# The TV Script is Nonsensical\n",
    "It's ok if the TV script doesn't make any sense.  We trained on less than a megabyte of text.  In order to get good results, you'll have to use a smaller vocabulary or get more data.  Luckly there's more data!  As we mentioned in the begging of this project, this is a subset of [another dataset](https://www.kaggle.com/wcukierski/the-simpsons-by-the-data).  We didn't have you train on all the data, because that would take too long.  However, you are free to train your neural network on all the data.  After you complete the project, of course.\n",
    "# Submitting This Project\n",
    "When submitting this project, make sure to run all the cells before saving the notebook. Save the notebook file as \"dlnd_tv_script_generation.ipynb\" and save it as a HTML file under \"File\" -> \"Download as\". Include the \"helper.py\" and \"problem_unittests.py\" files in your submission."
   ]
  }
 ],
 "metadata": {
  "kernelspec": {
   "display_name": "Python 3",
   "language": "python",
   "name": "python3"
  },
  "language_info": {
   "codemirror_mode": {
    "name": "ipython",
    "version": 3
   },
   "file_extension": ".py",
   "mimetype": "text/x-python",
   "name": "python",
   "nbconvert_exporter": "python",
   "pygments_lexer": "ipython3",
   "version": "3.5.4"
  },
  "widgets": {
   "state": {},
   "version": "1.1.2"
  }
 },
 "nbformat": 4,
 "nbformat_minor": 1
}
