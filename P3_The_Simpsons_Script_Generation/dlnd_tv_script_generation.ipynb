{
 "cells": [
  {
   "cell_type": "markdown",
   "metadata": {},
   "source": [
    "# TV Script Generation\n",
    "In this project, you'll generate your own [Simpsons](https://en.wikipedia.org/wiki/The_Simpsons) TV scripts using RNNs.  You'll be using part of the [Simpsons dataset](https://www.kaggle.com/wcukierski/the-simpsons-by-the-data) of scripts from 27 seasons.  The Neural Network you'll build will generate a new TV script for a scene at [Moe's Tavern](https://simpsonswiki.com/wiki/Moe's_Tavern).\n",
    "## Get the Data\n",
    "The data is already provided for you.  You'll be using a subset of the original dataset.  It consists of only the scenes in Moe's Tavern.  This doesn't include other versions of the tavern, like \"Moe's Cavern\", \"Flaming Moe's\", \"Uncle Moe's Family Feed-Bag\", etc.."
   ]
  },
  {
   "cell_type": "code",
   "execution_count": 1,
   "metadata": {
    "collapsed": true
   },
   "outputs": [],
   "source": [
    "\"\"\"\n",
    "DON'T MODIFY ANYTHING IN THIS CELL\n",
    "\"\"\"\n",
    "import helper\n",
    "\n",
    "data_dir = './data/simpsons/moes_tavern_lines.txt'\n",
    "text = helper.load_data(data_dir)\n",
    "# Ignore notice, since we don't use it for analysing the data\n",
    "text = text[81:]"
   ]
  },
  {
   "cell_type": "markdown",
   "metadata": {},
   "source": [
    "## Explore the Data\n",
    "Play around with `view_sentence_range` to view different parts of the data."
   ]
  },
  {
   "cell_type": "code",
   "execution_count": 2,
   "metadata": {},
   "outputs": [
    {
     "data": {
      "text/plain": [
       "\"Moe_Szyslak: (INTO PHONE) Moe's Tavern. Where the elite meet to drink.\\nBart_Simpson: Eh, yeah, hello, is Mike there? Last name, Rotch.\\nMoe_Szyslak: (INTO PHONE) Hold on, I'll check. (TO BARFLIES) Mike Rotch. Mike Rotch. Hey, has anybody seen Mike Rotch, lately?\\nMoe_Szyslak: (INTO PHONE) Listen you little puke. One of these days I'm gonna catch you, and I'm gonna carve my name on your back with an ice pick.\\nMoe_Szyslak: What's the matter Homer? You're not your normal effervescent self.\\nHomer_Simpson: I got my problems, Moe. Give me another one.\\nMoe_Szyslak: Homer, hey, you should not drink to forget your problems.\\nBarney_Gumble: Yeah, you should only drink to enhance your social skills.\\n\\n\\nMoe_Szyslak: Ah, isn't that nice. Now, there is a politician who cares.\\nBarney_Gumble: If I ever vote, it'll be for him. (BELCH)\\n\\n\\nBarney_Gumble: Hey Homer, how's your neighbor's store doing?\\nHomer_Simpson: Lousy. He just sits there all day. He'd have a great job if he didn't own the place. (CHUCKLES)\\n\""
      ]
     },
     "execution_count": 2,
     "metadata": {},
     "output_type": "execute_result"
    }
   ],
   "source": [
    "text[:1000]"
   ]
  },
  {
   "cell_type": "code",
   "execution_count": 3,
   "metadata": {},
   "outputs": [
    {
     "name": "stdout",
     "output_type": "stream",
     "text": [
      "<Dataset Stats>\n",
      "Roughly the number of unique words: 11492\n",
      "Number of scenes: 262\n",
      "Average number of sentences in each scene: 14.251908396946565\n",
      "Number of lines: 3996\n",
      "Average number of words in each line: 12.255755755755755\n",
      "\n",
      "The sentences 0 to 10:\n",
      "Moe_Szyslak: (INTO PHONE) Moe's Tavern. Where the elite meet to drink.\n",
      "Bart_Simpson: Eh, yeah, hello, is Mike there? Last name, Rotch.\n",
      "Moe_Szyslak: (INTO PHONE) Hold on, I'll check. (TO BARFLIES) Mike Rotch. Mike Rotch. Hey, has anybody seen Mike Rotch, lately?\n",
      "Moe_Szyslak: (INTO PHONE) Listen you little puke. One of these days I'm gonna catch you, and I'm gonna carve my name on your back with an ice pick.\n",
      "Moe_Szyslak: What's the matter Homer? You're not your normal effervescent self.\n",
      "Homer_Simpson: I got my problems, Moe. Give me another one.\n",
      "Moe_Szyslak: Homer, hey, you should not drink to forget your problems.\n",
      "Barney_Gumble: Yeah, you should only drink to enhance your social skills.\n",
      "\n",
      "\n"
     ]
    }
   ],
   "source": [
    "view_sentence_range = (0, 10)\n",
    "\n",
    "\"\"\"\n",
    "DON'T MODIFY ANYTHING IN THIS CELL\n",
    "\"\"\"\n",
    "import numpy as np\n",
    "\n",
    "print('<Dataset Stats>')\n",
    "print('Roughly the number of unique words: {}'.format(len({word: None for word in text.split()})))\n",
    "scenes = text.split('\\n\\n\\n')\n",
    "print('Number of scenes: {}'.format(len(scenes)))\n",
    "sentence_count_scene = [scene.count('\\n') for scene in scenes]\n",
    "print('Average number of sentences in each scene: {}'.format(np.average(sentence_count_scene)))\n",
    "\n",
    "sentences = [sentence for scene in scenes for sentence in scene.split('\\n')]\n",
    "print('Number of lines: {}'.format(len(sentences)))\n",
    "word_count_sentence = [len(sentence.split()) for sentence in sentences]\n",
    "print('Average number of words in each line: {}'.format(np.average(word_count_sentence)))\n",
    "\n",
    "print()\n",
    "print('The sentences {} to {}:'.format(*view_sentence_range))\n",
    "print('\\n'.join(text.split('\\n')[view_sentence_range[0]:view_sentence_range[1]]))"
   ]
  },
  {
   "cell_type": "markdown",
   "metadata": {},
   "source": [
    "## Implement Preprocessing Functions\n",
    "The first thing to do to any dataset is preprocessing.  Implement the following preprocessing functions below:\n",
    "- Lookup Table\n",
    "- Tokenize Punctuation\n",
    "\n",
    "### Lookup Table\n",
    "To create a word embedding, you first need to transform the words to ids.  In this function, create two dictionaries:\n",
    "- Dictionary to go from the words to an id, we'll call `vocab_to_int`\n",
    "- Dictionary to go from the id to word, we'll call `int_to_vocab`\n",
    "\n",
    "Return these dictionaries in the following tuple `(vocab_to_int, int_to_vocab)`"
   ]
  },
  {
   "cell_type": "code",
   "execution_count": 5,
   "metadata": {},
   "outputs": [
    {
     "name": "stdout",
     "output_type": "stream",
     "text": [
      "Tests Passed\n"
     ]
    }
   ],
   "source": [
    "import numpy as np\n",
    "import problem_unittests as tests\n",
    "\n",
    "def create_lookup_tables(text):\n",
    "    \"\"\"\n",
    "    Create lookup tables for vocabulary\n",
    "    :param text: The text of tv scripts split into words\n",
    "    :return: A tuple of dicts (vocab_to_int, int_to_vocab)\n",
    "    \"\"\"\n",
    "    # TODO: Implement Function\n",
    "    vocab = set(text)\n",
    "    word2int = {word : idx for idx, word in enumerate(vocab)}\n",
    "    int2word = {idx : word for idx, word in enumerate(vocab)}\n",
    "    \n",
    "    return word2int, int2word\n",
    "\n",
    "\n",
    "\"\"\"\n",
    "DON'T MODIFY ANYTHING IN THIS CELL THAT IS BELOW THIS LINE\n",
    "\"\"\"\n",
    "tests.test_create_lookup_tables(create_lookup_tables)"
   ]
  },
  {
   "cell_type": "markdown",
   "metadata": {},
   "source": [
    "### Tokenize Punctuation\n",
    "We'll be splitting the script into a word array using spaces as delimiters.  However, punctuations like periods and exclamation marks make it hard for the neural network to distinguish between the word \"bye\" and \"bye!\".\n",
    "\n",
    "Implement the function `token_lookup` to return a dict that will be used to tokenize symbols like \"!\" into \"||Exclamation_Mark||\".  Create a dictionary for the following symbols where the symbol is the key and value is the token:\n",
    "- Period ( . )\n",
    "- Comma ( , )\n",
    "- Quotation Mark ( \" )\n",
    "- Semicolon ( ; )\n",
    "- Exclamation mark ( ! )\n",
    "- Question mark ( ? )\n",
    "- Left Parentheses ( ( )\n",
    "- Right Parentheses ( ) )\n",
    "- Dash ( -- )\n",
    "- Return ( \\n )\n",
    "\n",
    "This dictionary will be used to token the symbols and add the delimiter (space) around it.  This separates the symbols as it's own word, making it easier for the neural network to predict on the next word. Make sure you don't use a token that could be confused as a word. Instead of using the token \"dash\", try using something like \"||dash||\"."
   ]
  },
  {
   "cell_type": "markdown",
   "metadata": {},
   "source": [
    "### First let's check the complete characters set of this text corpus"
   ]
  },
  {
   "cell_type": "code",
   "execution_count": 6,
   "metadata": {},
   "outputs": [
    {
     "name": "stdout",
     "output_type": "stream",
     "text": [
      "Symbol List:\n",
      "['\\n', ' ', '!', '\"', '#', '$', '%', '&', \"'\", '(', ')', ',', '-', '.', '/', '0', '1', '2', '3', '4', '5', '6', '7', '8', '9', ':', ';', '?', 'A', 'B', 'C', 'D', 'E', 'F', 'G', 'H', 'I', 'J', 'K', 'L', 'M', 'N', 'O', 'P', 'Q', 'R', 'S', 'T', 'U', 'V', 'W', 'X', 'Y', 'Z', '_', 'a', 'b', 'c', 'd', 'e', 'f', 'g', 'h', 'i', 'j', 'k', 'l', 'm', 'n', 'o', 'p', 'q', 'r', 's', 't', 'u', 'v', 'w', 'x', 'y', 'z', 'À', 'à', 'ã', 'ä', 'è', 'é', 'ó', 'ü'] \n",
      "\n",
      "Punctuation List:\n",
      "['\\n', ' ', '!', '\"', '#', '$', '%', '&', \"'\", '(', ')', ',', '-', '.', '/', ':', ';', '?', '_']\n"
     ]
    }
   ],
   "source": [
    "x = sorted(set(list(text)))\n",
    "print('Symbol List:')\n",
    "print(x, '\\n')\n",
    "\n",
    "punctuations = [c for c in x if not (c.isalpha() or c.isdigit())]\n",
    "print('Punctuation List:')\n",
    "print(punctuations)"
   ]
  },
  {
   "cell_type": "code",
   "execution_count": 7,
   "metadata": {},
   "outputs": [
    {
     "name": "stdout",
     "output_type": "stream",
     "text": [
      "Tests Passed\n"
     ]
    }
   ],
   "source": [
    "def token_lookup():\n",
    "    \"\"\"\n",
    "    Generate a dict to turn punctuation into a token.\n",
    "    :return: Tokenize dictionary where the key is the punctuation and the value is the token\n",
    "    \"\"\"\n",
    "    # TODO: Implement Function\n",
    "    punc_dict = {'.' :  '||Period||',\n",
    "                 ',' :  '||Comma||',\n",
    "                 '\"' :  '||Quotation||',\n",
    "                 ';' :  '||Semicolon||', \n",
    "                 '!' :  '||Exclamation||', \n",
    "                 '?' :  '||Question||', \n",
    "                 '(' :  '||Left||', \n",
    "                 ')' :  '||Right||',\n",
    "                 '--' : '||Dash||', \n",
    "                 '\\n' : '||Return||'}\n",
    "    return punc_dict\n",
    "\n",
    "\"\"\"\n",
    "DON'T MODIFY ANYTHING IN THIS CELL THAT IS BELOW THIS LINE\n",
    "\"\"\"\n",
    "tests.test_tokenize(token_lookup)"
   ]
  },
  {
   "cell_type": "markdown",
   "metadata": {},
   "source": [
    "> 可以注意到这里并未要求处理语言中比较常见的冒号 `:` 以及 `'` 号，可能是考虑到这两个符号与单词结合的更为紧密吧？"
   ]
  },
  {
   "cell_type": "markdown",
   "metadata": {},
   "source": [
    "## Preprocess all the data and save it\n",
    "Running the code cell below will preprocess all the data and save it to file."
   ]
  },
  {
   "cell_type": "code",
   "execution_count": 8,
   "metadata": {
    "collapsed": true
   },
   "outputs": [],
   "source": [
    "\"\"\"\n",
    "DON'T MODIFY ANYTHING IN THIS CELL\n",
    "\"\"\"\n",
    "# Preprocess Training, Validation, and Testing Data\n",
    "helper.preprocess_and_save_data(data_dir, token_lookup, create_lookup_tables)"
   ]
  },
  {
   "cell_type": "markdown",
   "metadata": {},
   "source": [
    "# Check Point\n",
    "This is your first checkpoint. If you ever decide to come back to this notebook or have to restart the notebook, you can start from here. The preprocessed data has been saved to disk."
   ]
  },
  {
   "cell_type": "code",
   "execution_count": 9,
   "metadata": {
    "collapsed": true
   },
   "outputs": [],
   "source": [
    "\"\"\"\n",
    "DON'T MODIFY ANYTHING IN THIS CELL\n",
    "\"\"\"\n",
    "import helper\n",
    "import numpy as np\n",
    "import problem_unittests as tests\n",
    "\n",
    "int_text, vocab_to_int, int_to_vocab, token_dict = helper.load_preprocess()"
   ]
  },
  {
   "cell_type": "markdown",
   "metadata": {},
   "source": [
    "## Build the Neural Network\n",
    "You'll build the components necessary to build a RNN by implementing the following functions below:\n",
    "- get_inputs\n",
    "- get_init_cell\n",
    "- get_embed\n",
    "- build_rnn\n",
    "- build_nn\n",
    "- get_batches\n",
    "\n",
    "### Check the Version of TensorFlow and Access to GPU"
   ]
  },
  {
   "cell_type": "code",
   "execution_count": 10,
   "metadata": {},
   "outputs": [
    {
     "name": "stdout",
     "output_type": "stream",
     "text": [
      "TensorFlow Version: 1.2.1\n",
      "Default GPU Device: /gpu:0\n"
     ]
    }
   ],
   "source": [
    "\"\"\"\n",
    "DON'T MODIFY ANYTHING IN THIS CELL\n",
    "\"\"\"\n",
    "from distutils.version import LooseVersion\n",
    "import warnings\n",
    "import tensorflow as tf\n",
    "\n",
    "# Check TensorFlow Version\n",
    "assert LooseVersion(tf.__version__) >= LooseVersion('1.0'), 'Please use TensorFlow version 1.0 or newer'\n",
    "print('TensorFlow Version: {}'.format(tf.__version__))\n",
    "\n",
    "# Check for a GPU\n",
    "if not tf.test.gpu_device_name():\n",
    "    warnings.warn('No GPU found. Please use a GPU to train your neural network.')\n",
    "else:\n",
    "    print('Default GPU Device: {}'.format(tf.test.gpu_device_name()))"
   ]
  },
  {
   "cell_type": "markdown",
   "metadata": {},
   "source": [
    "### Input\n",
    "Implement the `get_inputs()` function to create TF Placeholders for the Neural Network.  It should create the following placeholders:\n",
    "- Input text placeholder named \"input\" using the [TF Placeholder](https://www.tensorflow.org/api_docs/python/tf/placeholder) `name` parameter.\n",
    "- Targets placeholder\n",
    "- Learning Rate placeholder\n",
    "\n",
    "Return the placeholders in the following tuple `(Input, Targets, LearningRate)`"
   ]
  },
  {
   "cell_type": "markdown",
   "metadata": {},
   "source": [
    "#### 输入 Tensor 是二维的，目标 Tensor 也是二维的，具体维度的长度先不定，因此用None填充。"
   ]
  },
  {
   "cell_type": "code",
   "execution_count": 11,
   "metadata": {},
   "outputs": [
    {
     "name": "stdout",
     "output_type": "stream",
     "text": [
      "Tests Passed\n"
     ]
    }
   ],
   "source": [
    "def get_inputs():\n",
    "    \"\"\"\n",
    "    Create TF Placeholders for input, targets, and learning rate.\n",
    "    :return: Tuple (input, targets, learning rate)\n",
    "    \"\"\"\n",
    "    # TODO: Implement Function\n",
    "    inputs = tf.placeholder(dtype=tf.int32, shape=[None, None], name='input')\n",
    "    targets = tf.placeholder(dtype=tf.int32, shape=[None, None], name='targets')\n",
    "    lr = tf.placeholder(dtype=tf.float32, name='lr')\n",
    "    return inputs, targets, lr\n",
    "\n",
    "\n",
    "\"\"\"\n",
    "DON'T MODIFY ANYTHING IN THIS CELL THAT IS BELOW THIS LINE\n",
    "\"\"\"\n",
    "tests.test_get_inputs(get_inputs)"
   ]
  },
  {
   "cell_type": "markdown",
   "metadata": {},
   "source": [
    "### Build RNN Cell and Initialize\n",
    "Stack one or more [`BasicLSTMCells`](https://www.tensorflow.org/api_docs/python/tf/contrib/rnn/BasicLSTMCell) in a [`MultiRNNCell`](https://www.tensorflow.org/api_docs/python/tf/contrib/rnn/MultiRNNCell).\n",
    "- The Rnn size should be set using `rnn_size`\n",
    "- Initalize Cell State using the MultiRNNCell's [`zero_state()`](https://www.tensorflow.org/api_docs/python/tf/contrib/rnn/MultiRNNCell#zero_state) function\n",
    "    - Apply the name \"initial_state\" to the initial state using [`tf.identity()`](https://www.tensorflow.org/api_docs/python/tf/identity)\n",
    "\n",
    "Return the cell and initial state in the following tuple `(Cell, InitialState)`"
   ]
  },
  {
   "cell_type": "markdown",
   "metadata": {},
   "source": [
    "#### 基本流程\n",
    "\n",
    "- 定义单个 LSTM Cell 结构\n",
    "- 在每个 LSTM Cell 后面追加 Dropout\n",
    "- 将多个 LSTM Cell 串联起来\n",
    "- 对所有 LSTM Cell 进行初始化\n",
    "\n",
    "> tf.identity 的唯一作用就是对一个 Tensor 进行重命名"
   ]
  },
  {
   "cell_type": "code",
   "execution_count": 41,
   "metadata": {},
   "outputs": [
    {
     "name": "stdout",
     "output_type": "stream",
     "text": [
      "Tests Passed\n"
     ]
    }
   ],
   "source": [
    "num_cell = 1\n",
    "\n",
    "def get_init_cell(batch_size, rnn_size):\n",
    "    \"\"\"\n",
    "    Create an RNN Cell and initialize it.\n",
    "    :param batch_size: Size of batches\n",
    "    :param rnn_size: Size of RNNs\n",
    "    :return: Tuple (cell, initialize state)\n",
    "    \"\"\"\n",
    "    # TODO: Implement Function\n",
    "    # 只用一个 LSTM Cell 模型，看看效果\n",
    "    cell = tf.contrib.rnn.BasicLSTMCell(num_units=rnn_size)\n",
    "#     cell = tf.contrib.rnn.DropoutWrapper(cell, output_keep_prob=0.8)\n",
    "    cell = tf.contrib.rnn.MultiRNNCell([cell] * num_cell)\n",
    "    \n",
    "    # 用指定batch_size初始化LSTM Cell，并重命名\n",
    "    init_state = cell.zero_state(batch_size=batch_size, dtype=tf.float32)\n",
    "    init_state = tf.identity(init_state, name='initial_state')\n",
    "    return cell, init_state\n",
    "\n",
    "\n",
    "\"\"\"\n",
    "DON'T MODIFY ANYTHING IN THIS CELL THAT IS BELOW THIS LINE\n",
    "\"\"\"\n",
    "tests.test_get_init_cell(get_init_cell)"
   ]
  },
  {
   "cell_type": "markdown",
   "metadata": {},
   "source": [
    "### Word Embedding\n",
    "Apply embedding to `input_data` using TensorFlow.  Return the embedded sequence."
   ]
  },
  {
   "cell_type": "code",
   "execution_count": 28,
   "metadata": {},
   "outputs": [
    {
     "name": "stdout",
     "output_type": "stream",
     "text": [
      "Tests Passed\n"
     ]
    }
   ],
   "source": [
    "def get_embed(input_data, vocab_size, embed_dim):\n",
    "    \"\"\"\n",
    "    Create embedding for <input_data>.\n",
    "    :param input_data: TF placeholder for text input.\n",
    "    :param vocab_size: Number of words in vocabulary.\n",
    "    :param embed_dim: Number of embedding dimensions\n",
    "    :return: Embedded input.\n",
    "    \"\"\"\n",
    "    # TODO: Implement Function\n",
    "    embed_init = tf.random_uniform(shape=(vocab_size, embed_dim), minval=-1, maxval=1)\n",
    "    embedding = tf.Variable(initial_value=embed_init)\n",
    "    return tf.nn.embedding_lookup(params=embedding, ids=input_data)\n",
    "\n",
    "\n",
    "\"\"\"\n",
    "DON'T MODIFY ANYTHING IN THIS CELL THAT IS BELOW THIS LINE\n",
    "\"\"\"\n",
    "tests.test_get_embed(get_embed)"
   ]
  },
  {
   "cell_type": "markdown",
   "metadata": {},
   "source": [
    "### Build RNN\n",
    "You created a RNN Cell in the `get_init_cell()` function.  Time to use the cell to create a RNN.\n",
    "- Build the RNN using the [`tf.nn.dynamic_rnn()`](https://www.tensorflow.org/api_docs/python/tf/nn/dynamic_rnn)\n",
    " - Apply the name \"final_state\" to the final state using [`tf.identity()`](https://www.tensorflow.org/api_docs/python/tf/identity)\n",
    "\n",
    "Return the outputs and final_state state in the following tuple `(Outputs, FinalState)` "
   ]
  },
  {
   "cell_type": "code",
   "execution_count": 29,
   "metadata": {},
   "outputs": [
    {
     "name": "stdout",
     "output_type": "stream",
     "text": [
      "Tests Passed\n"
     ]
    }
   ],
   "source": [
    "def build_rnn(cell, inputs):\n",
    "    \"\"\"\n",
    "    Create a RNN using a RNN Cell\n",
    "    :param cell: RNN Cell\n",
    "    :param inputs: Input text data\n",
    "    :return: Tuple (Outputs, Final State)\n",
    "    \"\"\"\n",
    "    # TODO: Implement Function\n",
    "    outputs, finalState = tf.nn.dynamic_rnn(cell=cell, inputs=inputs, dtype=tf.float32)\n",
    "    finalState = tf.identity(finalState, name='final_state')\n",
    "    return outputs, finalState\n",
    "\n",
    "\n",
    "\"\"\"\n",
    "DON'T MODIFY ANYTHING IN THIS CELL THAT IS BELOW THIS LINE\n",
    "\"\"\"\n",
    "tests.test_build_rnn(build_rnn)"
   ]
  },
  {
   "cell_type": "markdown",
   "metadata": {},
   "source": [
    "### Build the Neural Network\n",
    "Apply the functions you implemented above to:\n",
    "- Apply embedding to `input_data` using your `get_embed(input_data, vocab_size, embed_dim)` function.\n",
    "- Build RNN using `cell` and your `build_rnn(cell, inputs)` function.\n",
    "- Apply a fully connected layer with a linear activation and `vocab_size` as the number of outputs.\n",
    "\n",
    "Return the logits and final state in the following tuple (Logits, FinalState) "
   ]
  },
  {
   "cell_type": "code",
   "execution_count": 30,
   "metadata": {
    "scrolled": false
   },
   "outputs": [
    {
     "name": "stdout",
     "output_type": "stream",
     "text": [
      "Tests Passed\n"
     ]
    }
   ],
   "source": [
    "def build_nn(cell, rnn_size, input_data, vocab_size, embed_dim):\n",
    "    \"\"\"\n",
    "    Build part of the neural network\n",
    "    :param cell: RNN cell\n",
    "    :param rnn_size: Size of rnns\n",
    "    :param input_data: Input data\n",
    "    :param vocab_size: Vocabulary size\n",
    "    :param embed_dim: Number of embedding dimensions\n",
    "    :return: Tuple (Logits, FinalState)\n",
    "    \"\"\"\n",
    "    # TODO: Implement Function\n",
    "    embed = get_embed(input_data, vocab_size, embed_dim)\n",
    "    outputs, finalState = build_rnn(cell, embed)\n",
    "    out = tf.contrib.layers.fully_connected(inputs=outputs, num_outputs=vocab_size, activation_fn=None)\n",
    "    return out, finalState\n",
    "\n",
    "\n",
    "\"\"\"\n",
    "DON'T MODIFY ANYTHING IN THIS CELL THAT IS BELOW THIS LINE\n",
    "\"\"\"\n",
    "tests.test_build_nn(build_nn)"
   ]
  },
  {
   "cell_type": "markdown",
   "metadata": {},
   "source": [
    "### Batches\n",
    "Implement `get_batches` to create batches of input and targets using `int_text`.  The batches should be a Numpy array with the shape `(number of batches, 2, batch size, sequence length)`. Each batch contains two elements:\n",
    "- The first element is a single batch of **input** with the shape `[batch size, sequence length]`\n",
    "- The second element is a single batch of **targets** with the shape `[batch size, sequence length]`\n",
    "\n",
    "If you can't fill the last batch with enough data, drop the last batch.\n",
    "\n",
    "For exmple, `get_batches([1, 2, 3, 4, 5, 6, 7, 8, 9, 10, 11, 12, 13, 14, 15], 2, 3)` would return a Numpy array of the following:\n",
    "```\n",
    "[\n",
    "  # First Batch\n",
    "  [\n",
    "    # Batch of Input\n",
    "    [[ 1  2  3], [ 7  8  9]],\n",
    "    # Batch of targets\n",
    "    [[ 2  3  4], [ 8  9 10]]\n",
    "  ],\n",
    " \n",
    "  # Second Batch\n",
    "  [\n",
    "    # Batch of Input\n",
    "    [[ 4  5  6], [10 11 12]],\n",
    "    # Batch of targets\n",
    "    [[ 5  6  7], [11 12 13]]\n",
    "  ]\n",
    "]\n",
    "```"
   ]
  },
  {
   "cell_type": "code",
   "execution_count": 31,
   "metadata": {
    "collapsed": true
   },
   "outputs": [],
   "source": [
    "def print_batch(a):\n",
    "    print('Shape:', a.shape, '\\n')\n",
    "    con = np.concatenate(a, axis=2)\n",
    "    print(con)"
   ]
  },
  {
   "cell_type": "markdown",
   "metadata": {},
   "source": [
    "#### 写法1：矩阵解法"
   ]
  },
  {
   "cell_type": "code",
   "execution_count": 17,
   "metadata": {},
   "outputs": [
    {
     "name": "stdout",
     "output_type": "stream",
     "text": [
      "Tests Passed\n",
      "Shape: (2, 2, 3, 4) \n",
      "\n",
      "[[[ 1  2  3  4  5  6  7  8]\n",
      "  [ 9 10 11 12 13 14 15 16]\n",
      "  [17 18 19 20 21 22 23 24]]\n",
      "\n",
      " [[ 2  3  4  5  6  7  8  9]\n",
      "  [10 11 12 13 14 15 16 17]\n",
      "  [18 19 20 21 22 23 24  1]]]\n"
     ]
    }
   ],
   "source": [
    "def get_batches(int_text, batch_size, seq_length):\n",
    "    \"\"\"\n",
    "    Return batches of input and target\n",
    "    :param int_text: Text with the words replaced by their ids\n",
    "    :param batch_size: The size of batch\n",
    "    :param seq_length: The length of sequence\n",
    "    :return: Batches as a Numpy array\n",
    "    \"\"\"\n",
    "    # TODO: Implement Function\n",
    "\n",
    "    n_batches = len(int_text) // (batch_size * seq_length)\n",
    "    lens = n_batches * batch_size * seq_length\n",
    "    inputs_X = np.array(int_text[:lens]).reshape((batch_size, -1))\n",
    "    inputs_Y = np.roll(int_text, -1)[:lens].reshape((batch_size, -1))\n",
    "    res = np.zeros((n_batches, 2, batch_size, seq_length), dtype=np.int32)\n",
    "    \n",
    "    # 每个batch内分别存储输入和期望输出值对象\n",
    "    for i in range(n_batches):\n",
    "        res[i, 0] = inputs_X[:, i * seq_length : (i + 1) * seq_length]\n",
    "        res[i, 1] = inputs_Y[:, i * seq_length : (i + 1) * seq_length]\n",
    "    return res\n",
    "    \n",
    "\n",
    "\"\"\"\n",
    "DON'T MODIFY ANYTHING IN THIS CELL THAT IS BELOW THIS LINE\n",
    "\"\"\"\n",
    "tests.test_get_batches(get_batches)\n",
    "print_batch(get_batches(np.arange(1, 25), 3, 4))"
   ]
  },
  {
   "cell_type": "markdown",
   "metadata": {},
   "source": [
    "#### 写法2：不使用矩阵，直接用双循环索引"
   ]
  },
  {
   "cell_type": "code",
   "execution_count": 18,
   "metadata": {},
   "outputs": [
    {
     "name": "stdout",
     "output_type": "stream",
     "text": [
      "Tests Passed\n",
      "Shape: (2, 2, 3, 4) \n",
      "\n",
      "[[[ 1  2  3  4  5  6  7  8]\n",
      "  [ 5  6  7  8  9 10 11 12]\n",
      "  [ 9 10 11 12 13 14 15 16]]\n",
      "\n",
      " [[ 2  3  4  5  6  7  8  9]\n",
      "  [ 6  7  8  9 10 11 12 13]\n",
      "  [10 11 12 13 14 15 16 17]]]\n"
     ]
    }
   ],
   "source": [
    "def get_batches2(int_text, batch_size, seq_length):\n",
    "    \"\"\"\n",
    "    Return batches of input and target\n",
    "    :param int_text: Text with the words replaced by their ids\n",
    "    :param batch_size: The size of batch\n",
    "    :param seq_length: The length of sequence\n",
    "    :return: Batches as a Numpy array\n",
    "    \"\"\"\n",
    "    n_batches = len(int_text) // (batch_size * seq_length)\n",
    "    result = []\n",
    "    for i in range(n_batches):\n",
    "        X = []\n",
    "        Y = []\n",
    "        for j in range(batch_size):\n",
    "            idx = i * seq_length + j * seq_length\n",
    "            X.append(int_text[idx : (idx + seq_length)])\n",
    "            Y.append(int_text[(idx + 1) : (idx + seq_length + 1)])\n",
    "        result.append([X, Y])\n",
    "    return np.array(result)\n",
    "\n",
    "tests.test_get_batches(get_batches)\n",
    "print_batch(get_batches2(np.arange(1, 25), 3, 4))"
   ]
  },
  {
   "cell_type": "markdown",
   "metadata": {},
   "source": [
    "## Neural Network Training\n",
    "### Hyperparameters\n",
    "Tune the following parameters:\n",
    "\n",
    "- Set `num_epochs` to the number of epochs.\n",
    "- Set `batch_size` to the batch size.\n",
    "- Set `rnn_size` to the size of the RNNs.\n",
    "- Set `embed_dim` to the size of the embedding.\n",
    "- Set `seq_length` to the length of sequence.\n",
    "- Set `learning_rate` to the learning rate.\n",
    "- Set `show_every_n_batches` to the number of batches the neural network should print progress."
   ]
  },
  {
   "cell_type": "code",
   "execution_count": 167,
   "metadata": {
    "collapsed": true
   },
   "outputs": [],
   "source": [
    "num_epochs = 100\n",
    "\n",
    "batch_size = 128\n",
    "\n",
    "rnn_size = 256\n",
    "\n",
    "embed_dim = 256\n",
    "\n",
    "num_cell = 1\n",
    "\n",
    "seq_length = 32\n",
    "\n",
    "learning_rate = 0.01\n",
    "\n",
    "show_every_n_batches = 100\n",
    "\n",
    "\"\"\"\n",
    "DON'T MODIFY ANYTHING IN THIS CELL THAT IS BELOW THIS LINE\n",
    "\"\"\"\n",
    "save_dir = './save'"
   ]
  },
  {
   "cell_type": "markdown",
   "metadata": {},
   "source": [
    "### Build the Graph\n",
    "Build the graph using the neural network you implemented."
   ]
  },
  {
   "cell_type": "code",
   "execution_count": 168,
   "metadata": {
    "collapsed": true,
    "scrolled": false
   },
   "outputs": [],
   "source": [
    "\"\"\"\n",
    "DON'T MODIFY ANYTHING IN THIS CELL\n",
    "\"\"\"\n",
    "from tensorflow.contrib import seq2seq\n",
    "\n",
    "train_graph = tf.Graph()\n",
    "with train_graph.as_default():\n",
    "    vocab_size = len(int_to_vocab)\n",
    "    input_text, targets, lr = get_inputs()\n",
    "    input_data_shape = tf.shape(input_text)\n",
    "    cell, initial_state = get_init_cell(input_data_shape[0], rnn_size)\n",
    "    logits, final_state = build_nn(cell, rnn_size, input_text, vocab_size, embed_dim)\n",
    "\n",
    "    # Probabilities for generating words\n",
    "    probs = tf.nn.softmax(logits, name='probs')\n",
    "\n",
    "    # Loss function\n",
    "    cost = seq2seq.sequence_loss(\n",
    "        logits,\n",
    "        targets,\n",
    "        tf.ones([input_data_shape[0], input_data_shape[1]]))\n",
    "\n",
    "    # Optimizer\n",
    "    optimizer = tf.train.AdamOptimizer(lr)\n",
    "\n",
    "    # Gradient Clipping\n",
    "    gradients = optimizer.compute_gradients(cost)\n",
    "    capped_gradients = [(tf.clip_by_value(grad, -1., 1.), var) for grad, var in gradients if grad is not None]\n",
    "    train_op = optimizer.apply_gradients(capped_gradients)"
   ]
  },
  {
   "cell_type": "markdown",
   "metadata": {},
   "source": [
    "## Train\n",
    "Train the neural network on the preprocessed data.  If you have a hard time getting a good loss, check the [forms](https://discussions.udacity.com/) to see if anyone is having the same problem."
   ]
  },
  {
   "cell_type": "markdown",
   "metadata": {},
   "source": [
    "### 1. Using `get_batches`"
   ]
  },
  {
   "cell_type": "code",
   "execution_count": 169,
   "metadata": {},
   "outputs": [
    {
     "name": "stdout",
     "output_type": "stream",
     "text": [
      "Epoch   0 Batch    0/16   train_loss = 8.820\n",
      "Epoch   6 Batch    4/16   train_loss = 3.422\n",
      "Epoch  12 Batch    8/16   train_loss = 2.259\n",
      "Epoch  18 Batch   12/16   train_loss = 1.698\n",
      "Epoch  25 Batch    0/16   train_loss = 1.102\n",
      "Epoch  31 Batch    4/16   train_loss = 0.777\n",
      "Epoch  37 Batch    8/16   train_loss = 0.551\n",
      "Epoch  43 Batch   12/16   train_loss = 0.413\n",
      "Epoch  50 Batch    0/16   train_loss = 0.254\n",
      "Epoch  56 Batch    4/16   train_loss = 0.191\n",
      "Epoch  62 Batch    8/16   train_loss = 0.140\n",
      "Epoch  68 Batch   12/16   train_loss = 0.121\n",
      "Epoch  75 Batch    0/16   train_loss = 0.099\n",
      "Epoch  81 Batch    4/16   train_loss = 0.095\n",
      "Epoch  87 Batch    8/16   train_loss = 0.089\n",
      "Epoch  93 Batch   12/16   train_loss = 0.095\n",
      "Model Trained and Saved\n"
     ]
    }
   ],
   "source": [
    "\"\"\"\n",
    "DON'T MODIFY ANYTHING IN THIS CELL\n",
    "\"\"\"\n",
    "batches = get_batches(int_text, batch_size, seq_length)\n",
    "\n",
    "with tf.Session(graph=train_graph) as sess:\n",
    "    sess.run(tf.global_variables_initializer())\n",
    "\n",
    "    for epoch_i in range(num_epochs):\n",
    "        state = sess.run(initial_state, {input_text: batches[0][0]})\n",
    "\n",
    "        for batch_i, (x, y) in enumerate(batches):\n",
    "            feed = {\n",
    "                input_text: x,\n",
    "                targets: y,\n",
    "                initial_state: state,\n",
    "                lr: learning_rate}\n",
    "            train_loss, state, _ = sess.run([cost, final_state, train_op], feed)\n",
    "\n",
    "            # Show every <show_every_n_batches> batches\n",
    "            if (epoch_i * len(batches) + batch_i) % show_every_n_batches == 0:\n",
    "                print('Epoch {:>3} Batch {:>4}/{}   train_loss = {:.3f}'.format(\n",
    "                    epoch_i,\n",
    "                    batch_i,\n",
    "                    len(batches),\n",
    "                    train_loss))\n",
    "\n",
    "    # Save Model\n",
    "    saver = tf.train.Saver()\n",
    "    saver.save(sess, save_dir)\n",
    "    print('Model Trained and Saved')"
   ]
  },
  {
   "cell_type": "markdown",
   "metadata": {},
   "source": [
    "`rnn_size` | 100 代 `Training Loss`\n",
    "--- | ---\n",
    "64  | 2.00\n",
    "128 | 0.70\n",
    "256 | 0.10\n",
    "512 | 0.09\n",
    "\n",
    "\n",
    "`embed_dim` | 100 代 `Training Loss`\n",
    "--- | ---\n",
    "64  | 0.20\n",
    "128 | 0.10\n",
    "256 | 0.09\n",
    "512 | 0.09\n",
    "\n",
    "\n",
    "`seq_length` 参数决定了生成的句子有多长。\n",
    "\n",
    "`seq_length` | `Training Loss` | `Epochs`\n",
    "--- | --- | ---\n",
    "4   | 1.825 | 12\n",
    "8   | 0.878 | 25\n",
    "16  | 0.283 | 50\n",
    "32  | 0.090 | 100\n",
    "64  | 0.030 | 200\n",
    "128 | 0.016 | 400 \n",
    "256 | 0.008 | 800"
   ]
  },
  {
   "cell_type": "markdown",
   "metadata": {},
   "source": [
    "### 2. Using `get_batches2`"
   ]
  },
  {
   "cell_type": "code",
   "execution_count": 21,
   "metadata": {},
   "outputs": [
    {
     "name": "stdout",
     "output_type": "stream",
     "text": [
      "Epoch   0 Batch    0/16   train_loss = 8.822\n",
      "Epoch   6 Batch    4/16   train_loss = 4.268\n",
      "Epoch  12 Batch    8/16   train_loss = 1.996\n",
      "Epoch  18 Batch   12/16   train_loss = 0.799\n",
      "Epoch  25 Batch    0/16   train_loss = 0.388\n",
      "Epoch  31 Batch    4/16   train_loss = 0.172\n",
      "Epoch  37 Batch    8/16   train_loss = 0.114\n",
      "Epoch  43 Batch   12/16   train_loss = 0.088\n",
      "Epoch  50 Batch    0/16   train_loss = 0.087\n",
      "Epoch  56 Batch    4/16   train_loss = 0.062\n",
      "Epoch  62 Batch    8/16   train_loss = 0.050\n",
      "Epoch  68 Batch   12/16   train_loss = 0.050\n",
      "Epoch  75 Batch    0/16   train_loss = 0.056\n",
      "Epoch  81 Batch    4/16   train_loss = 0.046\n",
      "Epoch  87 Batch    8/16   train_loss = 0.039\n",
      "Epoch  93 Batch   12/16   train_loss = 0.046\n",
      "Model Trained and Saved\n"
     ]
    }
   ],
   "source": [
    "batches = get_batches2(int_text, batch_size, seq_length)\n",
    "\n",
    "with tf.Session(graph=train_graph) as sess:\n",
    "    sess.run(tf.global_variables_initializer())\n",
    "\n",
    "    for epoch_i in range(num_epochs):\n",
    "        state = sess.run(initial_state, {input_text: batches[0][0]})\n",
    "\n",
    "        for batch_i, (x, y) in enumerate(batches):\n",
    "            feed = {\n",
    "                input_text: x,\n",
    "                targets: y,\n",
    "                initial_state: state,\n",
    "                lr: learning_rate}\n",
    "            train_loss, state, _ = sess.run([cost, final_state, train_op], feed)\n",
    "\n",
    "            # Show every <show_every_n_batches> batches\n",
    "            if (epoch_i * len(batches) + batch_i) % show_every_n_batches == 0:\n",
    "                print('Epoch {:>3} Batch {:>4}/{}   train_loss = {:.3f}'.format(\n",
    "                    epoch_i,\n",
    "                    batch_i,\n",
    "                    len(batches),\n",
    "                    train_loss))\n",
    "\n",
    "    # Save Model\n",
    "    saver = tf.train.Saver()\n",
    "    saver.save(sess, save_dir)\n",
    "    print('Model Trained and Saved')"
   ]
  },
  {
   "cell_type": "markdown",
   "metadata": {},
   "source": [
    "### 疑问：为什么get_batch方法不同会导致模型收敛的情况有如此大的差异？\n",
    "\n",
    "- 上面进行了两次训练，使用同样的超参数组合，唯一的不同就是调用的get_batches方法不同。可以看到第一次训练在100代后Loss依然在2左右，而第二次训练在100代后Loss能够降低至0.039。差异巨大。\n",
    "\n",
    "\n",
    "- 针对 `np.arange(1, 25), batch_size=3, seq_length=4` 情况下，对比两种get_batch方法的结果\n",
    "\n",
    "$$\n",
    "[1, 2, 3, 4, 5, 6, 7, 8, 9, 10, 11, 12, 13, 14, 15, 16, 17, 18, 19, 20, 21, 22, 23, 24]\n",
    "$$\n",
    "\n",
    "#### Solution 1\n",
    "\n",
    "\n",
    "```\n",
    "     batch 1            batch 2\n",
    "[[[ 1  2  3  4    |    5  6  7  8]\n",
    "  [ 9 10 11 12    |   13 14 15 16]\n",
    "  [17 18 19 20    |   21 22 23 24]]\n",
    "\n",
    " [[ 2  3  4  5    |    6  7  8  9]\n",
    "  [10 11 12 13    |   14 15 16 17]\n",
    "  [18 19 20 21    |   22 23 24  1]]]\n",
    "```\n",
    "\n",
    "#### Solution 2\n",
    "\n",
    "```\n",
    "     batch 1            batch 2\n",
    "[[[ 1  2  3  4     |    5  6  7  8]\n",
    "  [ 5  6  7  8     |    9 10 11 12]\n",
    "  [ 9 10 11 12     |   13 14 15 16]]\n",
    "\n",
    " [[ 2  3  4  5     |    6  7  8  9]\n",
    "  [ 6  7  8  9     |   10 11 12 13]\n",
    "  [10 11 12 13     |   14 15 16 17]]]\n",
    "```"
   ]
  },
  {
   "cell_type": "markdown",
   "metadata": {},
   "source": [
    "- num_epochs = 100\n",
    "- batch_size = 64\n",
    "- layer = 3\n",
    "- dropout = 0.8\n",
    "- rnn_size = 256\n",
    "- embed_dim = 256\n",
    "- seq_length = 32\n",
    "- learning_rate = 0.01\n",
    "- show_every_n_batches = 100"
   ]
  },
  {
   "cell_type": "markdown",
   "metadata": {},
   "source": [
    "## Save Parameters\n",
    "Save `seq_length` and `save_dir` for generating a new TV script."
   ]
  },
  {
   "cell_type": "code",
   "execution_count": 170,
   "metadata": {
    "collapsed": true
   },
   "outputs": [],
   "source": [
    "\"\"\"\n",
    "DON'T MODIFY ANYTHING IN THIS CELL\n",
    "\"\"\"\n",
    "# Save parameters for checkpoint\n",
    "helper.save_params((seq_length, save_dir))"
   ]
  },
  {
   "cell_type": "markdown",
   "metadata": {},
   "source": [
    "# Checkpoint"
   ]
  },
  {
   "cell_type": "code",
   "execution_count": 171,
   "metadata": {
    "collapsed": true
   },
   "outputs": [],
   "source": [
    "\"\"\"\n",
    "DON'T MODIFY ANYTHING IN THIS CELL\n",
    "\"\"\"\n",
    "import tensorflow as tf\n",
    "import numpy as np\n",
    "import helper\n",
    "import problem_unittests as tests\n",
    "\n",
    "_, vocab_to_int, int_to_vocab, token_dict = helper.load_preprocess()\n",
    "seq_length, load_dir = helper.load_params()"
   ]
  },
  {
   "cell_type": "markdown",
   "metadata": {},
   "source": [
    "## Implement Generate Functions\n",
    "### Get Tensors\n",
    "Get tensors from `loaded_graph` using the function [`get_tensor_by_name()`](https://www.tensorflow.org/api_docs/python/tf/Graph#get_tensor_by_name).  Get the tensors using the following names:\n",
    "- \"input:0\"\n",
    "- \"initial_state:0\"\n",
    "- \"final_state:0\"\n",
    "- \"probs:0\"\n",
    "\n",
    "Return the tensors in the following tuple `(InputTensor, InitialStateTensor, FinalStateTensor, ProbsTensor)` "
   ]
  },
  {
   "cell_type": "code",
   "execution_count": 172,
   "metadata": {},
   "outputs": [
    {
     "name": "stdout",
     "output_type": "stream",
     "text": [
      "Tests Passed\n"
     ]
    }
   ],
   "source": [
    "def get_tensors(loaded_graph):\n",
    "    \"\"\"\n",
    "    Get input, initial state, final state, and probabilities tensor from <loaded_graph>\n",
    "    :param loaded_graph: TensorFlow graph loaded from file\n",
    "    :return: Tuple (InputTensor, InitialStateTensor, FinalStateTensor, ProbsTensor)\n",
    "    \"\"\"\n",
    "    # TODO: Implement Function\n",
    "    InputTensor         = loaded_graph.get_tensor_by_name('input:0')\n",
    "    InitialStateTensor  = loaded_graph.get_tensor_by_name('initial_state:0')\n",
    "    FinalStateTensor    = loaded_graph.get_tensor_by_name('final_state:0')\n",
    "    ProbsTensor         = loaded_graph.get_tensor_by_name('probs:0')\n",
    "    return InputTensor, InitialStateTensor, FinalStateTensor, ProbsTensor\n",
    "\n",
    "\n",
    "\"\"\"\n",
    "DON'T MODIFY ANYTHING IN THIS CELL THAT IS BELOW THIS LINE\n",
    "\"\"\"\n",
    "tests.test_get_tensors(get_tensors)"
   ]
  },
  {
   "cell_type": "markdown",
   "metadata": {},
   "source": [
    "### Choose Word\n",
    "Implement the `pick_word()` function to select the next word using `probabilities`."
   ]
  },
  {
   "cell_type": "code",
   "execution_count": 173,
   "metadata": {},
   "outputs": [
    {
     "name": "stdout",
     "output_type": "stream",
     "text": [
      "Tests Passed\n"
     ]
    }
   ],
   "source": [
    "def pick_word(probabilities, int_to_vocab):\n",
    "    \"\"\"\n",
    "    Pick the next word in the generated text\n",
    "    :param probabilities: Probabilites of the next word\n",
    "    :param int_to_vocab: Dictionary of word ids as the keys and words as the values\n",
    "    :return: String of the predicted word\n",
    "    \"\"\"\n",
    "    # TODO: Implement Function\n",
    "    # 选择概率最大的单词索引，反查单词内容\n",
    "    return int_to_vocab[np.argmax(probabilities)]\n",
    "\n",
    "\n",
    "\"\"\"\n",
    "DON'T MODIFY ANYTHING IN THIS CELL THAT IS BELOW THIS LINE\n",
    "\"\"\"\n",
    "tests.test_pick_word(pick_word)"
   ]
  },
  {
   "cell_type": "markdown",
   "metadata": {},
   "source": [
    "## Generate TV Script\n",
    "This will generate the TV script for you.  Set `gen_length` to the length of TV script you want to generate."
   ]
  },
  {
   "cell_type": "code",
   "execution_count": 174,
   "metadata": {
    "collapsed": true
   },
   "outputs": [
    {
     "name": "stdout",
     "output_type": "stream",
     "text": [
      "INFO:tensorflow:Restoring parameters from ./save\n",
      "moe_szyslak: picture you stir it with the attitude, moe. think.\n",
      "moe_szyslak: it's not without its charm.\n",
      "homer_simpson: try this.\n",
      "moe_szyslak:(reading)\" to moe-- from a minute-- beer, and thanks guys.\n",
      "moe_szyslak:(sings) i've been working on the railroad / all the live long day...(then) ahh. what the hell. you deserve it. thanks kids.\n",
      "bart_simpson: to krusty. the greatest entertainer, i get it.\n",
      "moe_szyslak:(sobs) oh my god! it's worse than i thought.\n",
      "carl_carlson:(to camera) see, this is why i don't talk much. you have i know your brother and...(frustrated moan)\n",
      "ned_flanders: yeah.\n",
      "homer_simpson: the moron next door closed early!\n",
      "little_man:(stiffening) i just why all the(into phone) just a sec. ivana tinkle. ivana tinkle. all right, everybody put down your glasses.\n",
      "\n",
      "\n",
      "moe_szyslak: what's the matter, declan? did a cop give ya a ticket for talkin' like a fruit?\n",
      "declan_desmond: it's the oddest... how can i ever repay, krusty. the drinks are on lenny.\n",
      "moe_szyslak: uh, i gotta check with lenny on that. uh, we're just watching the sun move across the sky.\n",
      "lenny_leonard:(pointing) when it gets to here, we can drink again.\n",
      "homer_simpson:(whiny) ow! i don't pay you to socialize.\n",
      "moe-clone:(sarcastic) oh, oh, there's sugar all over the bar now.\n",
      "lenny_leonard: that's not funny, homer.\n",
      "homer_simpson: you dirty teen.\n",
      "moe_szyslak:(being chuckle) whoa, it is... bo's cavern.\n",
      "mrs. _powers:(disgusted) give me my beer!\n",
      "homer_simpson: hey, moe, you got the secret vigilante handshake. now we need code names. i'll be\" cueball.\" skinner can be\" eightball\",\"\" source.\" then where have a when you said about that?\n",
      "barney_gumble:(toasting) for all we need a little advice, now i have a beer.\n",
      "carl_carlson: what is it, moe?\n",
      "moe_szyslak: uh, usin' the phone's a costume that creates awareness of duff!\n",
      "duffman: duffman wants to party down with the man who sent in trouble.\n",
      "homer_simpson:(crestfallen)... marge?\n",
      "moe_szyslak: thanks, homer. no hell...(then to moe, loud) seymour needs the toilet! his bladder's sound!\n",
      "moe_szyslak: it is?\n",
      "chief_wiggum: well, now, let me just show you where\n"
     ]
    }
   ],
   "source": [
    "gen_length = 500\n",
    "# homer_simpson, moe_szyslak, or Barney_Gumble\n",
    "prime_word = 'moe_szyslak'\n",
    "\n",
    "\"\"\"\n",
    "DON'T MODIFY ANYTHING IN THIS CELL THAT IS BELOW THIS LINE\n",
    "\"\"\"\n",
    "loaded_graph = tf.Graph()\n",
    "with tf.Session(graph=loaded_graph) as sess:\n",
    "    # Load saved model\n",
    "    loader = tf.train.import_meta_graph(load_dir + '.meta')\n",
    "    loader.restore(sess, load_dir)\n",
    "\n",
    "    # Get Tensors from loaded model\n",
    "    input_text, initial_state, final_state, probs = get_tensors(loaded_graph)\n",
    "\n",
    "    # Sentences generation setup\n",
    "    gen_sentences = [prime_word + ':']\n",
    "    prev_state = sess.run(initial_state, {input_text: np.array([[1]])})\n",
    "\n",
    "    # Generate sentences\n",
    "    for n in range(gen_length):\n",
    "        # Dynamic Input\n",
    "        dyn_input = [[vocab_to_int[word] for word in gen_sentences[-seq_length:]]]\n",
    "        dyn_seq_length = len(dyn_input[0])\n",
    "\n",
    "        # Get Prediction\n",
    "        probabilities, prev_state = sess.run(\n",
    "            [probs, final_state],\n",
    "            {input_text: dyn_input, initial_state: prev_state})\n",
    "        \n",
    "        # 手动降维才能运行。不知道为什么。\n",
    "        probabilities = np.squeeze(probabilities)\n",
    "        \n",
    "        pred_word = pick_word(probabilities[dyn_seq_length - 1], int_to_vocab)\n",
    "\n",
    "        gen_sentences.append(pred_word)\n",
    "    \n",
    "    # Remove tokens\n",
    "    tv_script = ' '.join(gen_sentences)\n",
    "    for key, token in token_dict.items():\n",
    "        ending = ' ' if key in ['\\n', '(', '\"'] else ''\n",
    "        tv_script = tv_script.replace(' ' + token.lower(), key)\n",
    "    tv_script = tv_script.replace('\\n ', '\\n')\n",
    "    tv_script = tv_script.replace('( ', '(')\n",
    "        \n",
    "    print(tv_script)"
   ]
  },
  {
   "cell_type": "markdown",
   "metadata": {},
   "source": [
    "### Seq_length = 4\n",
    "\n",
    "```\n",
    "moe_szyslak: picture, i wish i knew he'd slip up.\n",
    "homer_simpson:(to lisa) hi, this is guy husband to prison.\n",
    "homer_simpson:(to lisa) hi, this is guy husband to prison.\n",
    "homer_simpson:(to lisa) hi, this is guy husband to prison.\n",
    "homer_simpson:(to lisa) hi, this is guy husband to prison.\n",
    "homer_simpson:(to lisa) hi, this is guy husband to prison.\n",
    "homer_simpson:(to lisa) hi, this is guy husband to prison.\n",
    "homer_simpson:(to lisa) hi, this is guy husband to prison.\n",
    "homer_simpson:(to lisa) hi, this is guy husband to prison.\n",
    "homer_simpson:(to lisa) hi, this is guy husband to prison.\n",
    "homer_simpson:(to lisa) hi, this is guy husband to prison.\n",
    "homer_simpson:(to lisa) hi, this is guy husband to prison.\n",
    "homer_simpson:(to lisa) hi, this is guy husband to prison.\n",
    "homer_simpson:(to lisa) hi, this is guy husband to prison.\n",
    "```"
   ]
  },
  {
   "cell_type": "markdown",
   "metadata": {},
   "source": [
    "### Seq_length = 8\n",
    "\n",
    "```\n",
    "moe_szyslak: picture, i was gonna see a fictional tv.\n",
    "moe_szyslak:(incredulous) whaddaya been an already rewound.\n",
    "barney_gumble: come on, moe. i'm gonna get out on there.\n",
    "\n",
    "\n",
    "homer_simpson:(loud sotto) thanks, moe.\n",
    "moe_szyslak: well, i guess you'll have an idea what direction mecca's?\n",
    "lloyd:(closes big) ah, ha, i'm so happy you can pour me.\n",
    "barney_gumble: i can't go to get you back on your feet.\n",
    "moe_szyslak: yeah, but you'd be honest with you, drive?(small sob)\n",
    "moe_szyslak: hey, what's this?\n",
    "homer_simpson: i don't know. i have a file.\n",
    "\n",
    "\n",
    "homer_simpson:(sips it) nobody loves you...\n",
    "moe_szyslak: yeah, i figured out that right?\n",
    "carl_carlson: not to mention to think you, use my wife.\n",
    "moe_szyslak:(tense) hey, there are right-- and that will make it happen to me.\n",
    "carl_carlson: aw, marriage is gonna stay out out who is 'em gonna up the secret vigilante handshake. now we need to focus here. you know what i'm playing for ya?\n",
    "lenny_leonard:(nods) mm hmm.\n",
    "homer_simpson:(drunk) yeah, that's it.\n",
    "moe_szyslak: hey, homer... and i can't not vote, it'll so homer looking at the house.\n",
    "homer_simpson:(mouth full) hey, i wonder how much air let him be.\n",
    "homer_simpson:(noticing band) moe? hey, would you like to buy some dame, you act like me?\n",
    "moe_szyslak: well, i have no idea what-- i gotta take my medicine call?\n",
    "moe_szyslak:(excited) there ya go.\n",
    "\n",
    "\n",
    "homer_simpson: well, i trust you, moe.(laughs) great...\n",
    "carl_carlson: uh, james all right, i'm gonna need you to get the job. i am...\n",
    "moe_szyslak:(into phone) hello...\n",
    "all:(ad lib singing) what do you call it?\n",
    "moe_szyslak: uh, i can't really picture you get that punk someday, moe...\n",
    "moe_szyslak: hey, get outta here! i made a mistake i didn't pay for that?\n",
    "moe_szyslak: uh, well, i have the chocolate milk.\n",
    "moe_szyslak: oh, god, no... and that's why i got these super-tough africanized bees, moe. i got a hot date.\n",
    "moe_szyslak:(into phone) hello...\n",
    "all:(ad lib singing) what do you call it?\n",
    "moe_szyslak: uh, i can't really picture you get that punk\n",
    "```"
   ]
  },
  {
   "cell_type": "markdown",
   "metadata": {},
   "source": [
    "### Seq_length = 16\n",
    "\n",
    "```\n",
    "moe_szyslak: picture, i think we've been polite long enough here.\n",
    "lenny_leonard: that's not funny, homer.\n",
    "\n",
    "\n",
    "teenage_bart:(aghast) well, that's halfway there.\n",
    "snake_jailbird: thanks, homer, don't worry about the mr. x thing.(sitting down)\n",
    "moe_szyslak: hey, hey, hey, hey! that plank's only for the night with edna, i'm gonna have to break your the secret ingredient!\n",
    "seymour_skinner:(small laugh) the results came, but i am so late!\n",
    "barney_gumble: oh my god! he's killed my dad.\n",
    "homer_simpson: i hope he tells us to come clean.\n",
    "lenny_leonard: oh, come on, there's sexy bald like... uh... what?(quickly points)\n",
    "homer_simpson: witty, what he way. but i did publish five modestly successful children's books.\n",
    "bart_simpson: all we need your advice.\n",
    "moe_szyslak: it's an american tradition to cut people down to size up.\n",
    "lenny_leonard: look at me! i can fl--(anguished noise)\n",
    "\n",
    "\n",
    "moe_szyslak: what'sa matter, homer? usually you know it's like you're driving years hey hey, and be nice to me.\n",
    "moe_szyslak:(explaining) part of urine!\n",
    "moe_szyslak: yeah, that broad is gone, so lenny he's in the multi-purpose room.\n",
    "homer_simpson:(short moan) can't someone else do it?\n",
    "moe_szyslak:(on a huge sledge-hammer) we need for a while.\n",
    "linda_ronstadt:(singing) when the snow starts a fallin' in moe.(big)\n",
    "lisa_simpson:\" i'd say man who shouldn't have you?\n",
    "homer_simpson: i did. of course, it was kinda hard to think of reasons for a couple.\n",
    "moe_szyslak: are you kiddin' me? you're the best thing to get along the new world?\n",
    "moe_szyslak: that, you wanna try my new vance connor-politan? like vance fat, don't you do no accident.\n",
    "moe_szyslak: look, i'd like ya.\n",
    "\n",
    "\n",
    "lenny_leonard:(surprised) championship?\n",
    "homer_simpson: wooooo! 'topes ruuuule!\n",
    "kent_brockman:(to moe) pardon me, are you the genius behind the party boat and give you a beer?\n",
    "moe_szyslak:(pointed) and tip...\n",
    "c. _montgomery_burns:(reading)\"... coin at the scene of the\" love tester\"..\"\n",
    "moe_szyslak:\" no acronyms!\"(to barflies) so you're saying you'd... zero sheets to the wind.(to moe) she thinks i'm a pig.\n",
    "moe_szyslak:(sings) just once i wish cupid / would you like to buy some more of your finest beer.\n",
    "```"
   ]
  },
  {
   "cell_type": "markdown",
   "metadata": {},
   "source": [
    "### Seq_length = 32\n",
    "\n",
    "```\n",
    "moe_szyslak: picture that's very good at that.\n",
    "homer_simpson:(gasp of awe) dressing?\n",
    "moe_szyslak: their choice.\n",
    "homer_simpson: you really think i was gonna use the housework homer and the entire steel mill was gay.\n",
    "moe_szyslak: and what was lost in the service.\n",
    "homer_simpson:(quietly) hi, moe. where's the moments in a place like?\n",
    "moe_szyslak: well, i guess we are.\n",
    "ned_flanders: i suppose i do take maude for granted.\n",
    "barney_gumble: i don't know. the sat's are tomorrow.\n",
    "moe_szyslak: ah, they say the most clothespins this?\n",
    "moe_szyslak:(shocked) that's how it works? i was just drawin' wangs on the numbers from the...\n",
    "moe_szyslak: i knew that in order to win her love, i want to give something back.\n",
    "homer_simpson: listen, moe. i was thinking of another thing i got goin'.\n",
    "the_rich_texan: gimme a party down to homer and the cars he towed!\n",
    "lenny_leonard: with those jerks out of the way, i was able to park right outside!\n",
    "homer_simpson:(smelling\") big deal.\n",
    "marge_simpson:(reading sign)\" well, that helps.\n",
    "bar_rag: so to recap: i had to go help?\n",
    "moe_szyslak:(sobs) oh i need some coffee before i black out. homer, pass me the sugar.\n",
    "homer_simpson:(to himself) this is gonna be great. now you'll have someone who'll rub your back... without being all right\" the words of a heart-broken mother. for there will be no idea don't let it.\n",
    "homer_simpson: i just hope we put in enough steampunk?\n",
    "lenny_leonard:(mid-conversation) so who do you like, the padres or the tigers?\n",
    "moe_szyslak: yeah, i always say(philosophical)\" well, there's nothin' we can do about it...\n",
    "homer_simpson:(chuckles) hey, people may not love homer simpson, but they love their stupid american flag.\n",
    "\n",
    "\n",
    "moe_szyslak: okay, time for my annual holiday tradition... attempting to check on your feet.\n",
    "homer_simpson:(in bitter agreement) lousy democrats.\n",
    "homer_simpson: oh, right. i was thinking of another thing i got goin'.\n",
    "the_rich_texan: gimme a line in?\n",
    "moe_szyslak:(proudly) i think he'll do just fine.\n",
    "moe_szyslak:(to barney) linda ronstadt? how'd they mix?\n",
    "homer_simpson:(brightening) hey, i wonder how much air here in my.\n",
    "apu_nahasapeemapetilon: sorry.\n",
    "homer_simpson:(to self, in awe) wow, he was talking about a chick by digging through one garbage can than you could from years\n",
    "```"
   ]
  },
  {
   "cell_type": "markdown",
   "metadata": {},
   "source": [
    "### Seq_length = 64\n",
    "```\n",
    "moe_szyslak: picture me the--\n",
    "homer_simpson:(looking in) hey, wait a minute-- this is real money!\n",
    "homer_simpson:(proudly) yeah, my wife is raking it in.\n",
    "fat_tony:(clears throat) greetings, homer.\n",
    "homer_simpson:(happy to see him) hey, fat tony! you still with the mafia?\n",
    "homer_simpson: no...(bitter) lenny, moe... i can't believe someone i never heard of is hangin' out with a guy like me.\n",
    "moe_szyslak:(walking toward jukebox) a little splattered food never hurt anybody.(jubilant) now everybody shut up and dance!\n",
    "moe_szyslak: yeah, that broad is some dame!\n",
    "ned_flanders:(surprised) you all know edna?\n",
    "barney_gumble: oh, that's sweet. i used to follow my dad to a lot of bars too.(belch)\n",
    "moe_szyslak: here you go. homer is a real hero sure can do without: morning-after stationery.\n",
    "moe_szyslak: and i got ya helicopter flying lessons.(to barflies) can you imagine this boozebag at the wheel of a whirlybird?\n",
    "moe_szyslak:(laughs) he'd be all\" look at me! i'm a tanked-up loser in private?\n",
    "homer_simpson:(getting idea) why don't you just make it on and be.\n",
    "barney_gumble: don't be that way.\n",
    "homer_simpson: you know, i just made friends with pepto-bismol on facebook and uh... um... uh...\n",
    "homer_simpson: well, i love you, of course. but a lot of things you do still drive me crazy.\n",
    "homer_simpson: so you mean our whole marriage you've got to hope.\n",
    "moe_szyslak: what? gimme that.\n",
    "homer_simpson: my daughter. i have some fun.\n",
    "bart_simpson:(jovial) are you kidding? i take it as a compliment!(chuckle) three beers, please!\n",
    "barney_gumble: hey, join the party!(sickly, pathetic burp)\n",
    "moe_szyslak:(on phone) ura snotball?\n",
    "\n",
    "\n",
    "moe_szyslak: say, homer. i want to see your picture?\n",
    "moe_szyslak: let's do this up the bar.\n",
    "homer_simpson:(when i'm in the first place homer) i don't think the owner of moe's i never seen it.\n",
    "\n",
    "\n",
    "homer_simpson:(sobbing) greystash! greystash!\n",
    "moe_szyslak: gee, you're really upset about this greystash thing.\n",
    "homer_simpson: don't say his name! in your mouth it sounds like dirt!\n",
    "lenny_leonard: homer, i'm not gonna let anything happen to my two best customers. i'm joining too.\n",
    "moe_szyslak: well, i'm just gonna get right to the point, here.\n",
    "```"
   ]
  },
  {
   "cell_type": "markdown",
   "metadata": {},
   "source": [
    "### Seq_length = 128\n",
    "```\n",
    "moe_szyslak: picture why i want to spend time with you. i'm makin' a stand here.\n",
    "homer_simpson: the usual, moe. a beer and a wad of bills.\n",
    "moe_szyslak:(sarcastic laugh) okay, ya lucky moron.\n",
    "moe_szyslak: here you go, homer. a hundred and thirty-five dollars.\n",
    "homer_simpson:(sagely) i used to hate the smell of your sweaty feet.(sniffs deeply) now it's the smell of victory.\n",
    "moe_szyslak: aw, shut up.\n",
    "moe_szyslak: hundred and ten, a hundred and twenty... and the crowds went wild.\n",
    "barney_gumble: yoo hoo!\n",
    "homer_simpson:(sings) so goodbye...\n",
    "chief_wiggum:(sings) farewell...\n",
    "apu_nahasapeemapetilon:(sings) shop kwik-e-mart and save...\n",
    "all: goodbye my coney isle / goodbye my coney isle / goodbye my coney island babe!\n",
    "nigel_bakerbutcher: homer, i'm a theatrical agent, and i want to spend time with you...\n",
    "moe_szyslak: whoa, whoa, whoa! no offense, uh, but uh, i just ain't comfortable hanging around all night with, uh, y'know whatchamacallit... uh, swishkabobs.\n",
    "waylon_smithers:(knowing) yeah, right. it's too bad. could have been fun. could have made a little money.\n",
    "moe_szyslak: thank you, homer?\n",
    "homer_simpson: moe, do you mind if i bring in some outside food?\n",
    "homer_simpson: oh, i don't know. what would moe say about that?\n",
    "homer_simpson:(slyly) but on the other hand, i put this up recently, and it's a good thing i did, 'cause it really illustrates my point.(turns back to painting) yep, good ol' swigmore u.\n",
    "carl_carlson: gee, uh, when you talk about that school, your voice fills with, uh... what do you call it? human feeling.\n",
    "lenny_leonard: yeah, maybe you should, uh... what's the expression? go back to go to go down and the town?\n",
    "carl_carlson: ho, boy-- pigtown u. s. a.!\n",
    "moe_szyslak: aw, shut up.\n",
    "moe_szyslak: hundred and ten, a hundred and twenty... and the crowds went wild.\n",
    "barney_gumble: yoo hoo!\n",
    "homer_simpson:(sings) so goodbye...\n",
    "chief_wiggum:(sings) farewell...\n",
    "apu_nahasapeemapetilon:(sings) shop kwik-e-mart and save...\n",
    "all: goodbye my coney isle / goodbye my coney isle / goodbye my coney island babe!\n",
    "nigel_bakerbutcher: homer, i'm a theatrical agent, and i want to spend time with you...\n",
    "```"
   ]
  },
  {
   "cell_type": "markdown",
   "metadata": {},
   "source": [
    "### Seq_length = 256\n",
    "\n",
    "```\n",
    "moe_szyslak: picture, i'm surprised how much for the...\n",
    "moe_szyslak: i knew that in order to win her love, i needed to get rid of the human garbage otherwise known as my best friends.\n",
    "moe_szyslak: barney, how do you keep gettin' back in?\n",
    "barney_gumble: i'm a drunk. i don't know nothin' about how i do anything.\n",
    "moe_szyslak: i had to get edna out of springfield-- make a fresh start in a new town, far some day?\n",
    "lenny_leonard: i am like that.\n",
    "moe_szyslak: okay, gimme that. gimme it back!\n",
    "homer_simpson:(morose) oh, what'll i do, moe?\n",
    "moe_szyslak: well, why don't you invite him over to dinner that people out of town.\n",
    "moe_szyslak: well, i guess you'll pine forever for a man who doesn't care, while i just grow old here in this bar.\n",
    "waylon_smithers: here's to suffering in silence.\n",
    "waylon_smithers:(intrigued noise) can't wait to see those numbers hanging from my rafters.\n",
    "aged_moe:(sigh) i can't believe it's been three years since smithers left. man, have i been aging badly.(sighs) but i guess i can finally wash this forehead.\n",
    "aged_moe:(smiles) divine.\n",
    "\n",
    "\n",
    "troy:(tipsy) homer, i'm really touched you invited me out on the town. you're gonna be a four-star brother-in-law.\n",
    "troy:(drunk but smooth) c'mere, homer.\n",
    "troy: i'll let you in on a little secret...\n",
    "\n",
    "\n",
    "young_homer:(cheers and:) looks like i've gotta tell ya, homer, the handwriting's on the wall. to stay afloat, this bar's gonna have to go queer.\n",
    "larry: you mean it's not?\n",
    "larry:(to book) wrong again,\" gay guide to springfield\n",
    "barney_gumble: gimme a beer!\n",
    "moe_szyslak:(calmly) i knew you'd be back.\n",
    "moe_szyslak:(to self) santeria, you're the greatest!\n",
    "homer_simpson: barney, didn't you say you were gonna stop drinking?\n",
    "barney_gumble:(breaks down) i know, but it's so hard. please help me, homer.\n",
    "homer_simpson: you came to the right guy. i'll straighten ya out... right after i finish this beer.\n",
    "homer_simpson: ah, man that's sweet. okay, let's go.\n",
    "moe_szyslak: hey, homer.(as homer sits) ah, no, no, no, don't sit there. take this seat, right next to the tap.\n",
    "homer_simpson:(suspiciously) but that's barney's seat.\n",
    "\n",
    "\n",
    "homer_simpson:... and that's the terrifying tale of how the quebec nordiques became(spooky) the colorado avalanche.\n",
    "lisa_simpson: oh no! king toot's is closed! dad, you're gonna have to take me to the... big box music store.\n",
    "\n",
    "\n",
    "homer_simpson:(woozy) maybe a drink will help me with my driving.\n",
    "moe_szyslak: man, those things go off quick.\n",
    "moe_szyslak: few people know that verdict was overturned in the sequel. heh.\n",
    "homer_simpson: i'd better be heading home... to my family... enjoy your evening...\n",
    "```"
   ]
  },
  {
   "cell_type": "markdown",
   "metadata": {},
   "source": [
    "### 生成文本分析\n",
    "\n",
    "- 当 Training Loss 很小的时候，虽然句与句之间依然没有什么逻辑可言，但是生成的文本已经相当流畅，因为这些句子几乎都是原语料中的原话。\n",
    "\n",
    "- 绝大多数的单词的拼写都是正确的。\n",
    "\n",
    "- 绝大多数的标点都是正确的。"
   ]
  },
  {
   "cell_type": "markdown",
   "metadata": {},
   "source": [
    "# The TV Script is Nonsensical\n",
    "It's ok if the TV script doesn't make any sense.  We trained on less than a megabyte of text.  In order to get good results, you'll have to use a smaller vocabulary or get more data.  Luckly there's more data!  As we mentioned in the begging of this project, this is a subset of [another dataset](https://www.kaggle.com/wcukierski/the-simpsons-by-the-data).  We didn't have you train on all the data, because that would take too long.  However, you are free to train your neural network on all the data.  After you complete the project, of course.\n",
    "# Submitting This Project\n",
    "When submitting this project, make sure to run all the cells before saving the notebook. Save the notebook file as \"dlnd_tv_script_generation.ipynb\" and save it as a HTML file under \"File\" -> \"Download as\". Include the \"helper.py\" and \"problem_unittests.py\" files in your submission."
   ]
  }
 ],
 "metadata": {
  "kernelspec": {
   "display_name": "Python 3",
   "language": "python",
   "name": "python3"
  },
  "language_info": {
   "codemirror_mode": {
    "name": "ipython",
    "version": 3
   },
   "file_extension": ".py",
   "mimetype": "text/x-python",
   "name": "python",
   "nbconvert_exporter": "python",
   "pygments_lexer": "ipython3",
   "version": "3.5.4"
  },
  "widgets": {
   "state": {},
   "version": "1.1.2"
  }
 },
 "nbformat": 4,
 "nbformat_minor": 1
}
